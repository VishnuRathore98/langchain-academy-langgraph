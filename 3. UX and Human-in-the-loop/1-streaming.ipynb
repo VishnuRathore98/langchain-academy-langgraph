{
 "cells": [
  {
   "cell_type": "markdown",
   "id": "d9883033",
   "metadata": {},
   "source": [
    "### Streaming"
   ]
  },
  {
   "cell_type": "code",
   "execution_count": 20,
   "id": "9b35deb9",
   "metadata": {},
   "outputs": [
    {
     "data": {
      "text/plain": [
       "True"
      ]
     },
     "execution_count": 20,
     "metadata": {},
     "output_type": "execute_result"
    }
   ],
   "source": [
    "from langgraph.graph import StateGraph, MessagesState, START, END\n",
    "from langgraph.checkpoint.memory import MemorySaver\n",
    "from langchain_core.runnables import RunnableConfig\n",
    "from langchain_core.messages import HumanMessage, SystemMessage, AIMessage, RemoveMessage\n",
    "from langchain_groq import ChatGroq\n",
    "from dotenv import load_dotenv\n",
    "import os\n",
    "load_dotenv()"
   ]
  },
  {
   "cell_type": "code",
   "execution_count": 21,
   "id": "1ab2199c",
   "metadata": {},
   "outputs": [],
   "source": [
    "class State(MessagesState):\n",
    "    summary: str"
   ]
  },
  {
   "cell_type": "code",
   "execution_count": 23,
   "id": "e0f12ca0",
   "metadata": {},
   "outputs": [],
   "source": [
    "CHAT_LLAMA=os.getenv(\"CHAT_LLAMA\")"
   ]
  },
  {
   "cell_type": "code",
   "execution_count": 24,
   "id": "52b0eec5",
   "metadata": {},
   "outputs": [],
   "source": [
    "model = ChatGroq(model=CHAT_LLAMA)"
   ]
  },
  {
   "cell_type": "code",
   "execution_count": 25,
   "id": "446e39bf",
   "metadata": {},
   "outputs": [],
   "source": [
    "def conversation(state:State, config:RunnableConfig):\n",
    "    summary = state.get(\"summary\")\n",
    "    if summary:\n",
    "        message = f\"Here's the summary of our conversation so far:{summary} answer the following keeping the summary in context\"\n",
    "        query = [[HumanMessage(content=message)]+state['messages']]\n",
    "    else:\n",
    "        query=state['messages']\n",
    "\n",
    "    response = model.invoke(query, config)\n",
    "    return {\"messages\":response}"
   ]
  },
  {
   "cell_type": "code",
   "execution_count": 26,
   "id": "c9382ff5",
   "metadata": {},
   "outputs": [],
   "source": [
    "def summarization(state:State):\n",
    "    summary = state.get(\"summary\")\n",
    "\n",
    "    if summary:\n",
    "        system_message = f\"use the following earlier summary: {summary}, and create a new summary using the following new conversation: {state['messages']}\"\n",
    "        message = [[HumanMessage(content=system_message)]+state['messages']]\n",
    "    else:\n",
    "        system_message = f\"create a summary of the following conversation: {state['messages']}\"\n",
    "        message=[HumanMessage(content=system_message)]\n",
    "    \n",
    "    response = model.invoke(message)\n",
    "    recent_messages=[RemoveMessage(id=m.id) for m in state['messages'][:-2]]\n",
    "\n",
    "    return {'messages':recent_messages,'summary':response.content}\n"
   ]
  },
  {
   "cell_type": "code",
   "execution_count": 27,
   "id": "3c49d820",
   "metadata": {},
   "outputs": [],
   "source": [
    "def should_continue(state:State):\n",
    "    messages = state['messages']\n",
    "    if len(messages)>=6:\n",
    "        return 'summ'\n",
    "    else:\n",
    "        return END"
   ]
  },
  {
   "cell_type": "code",
   "execution_count": 28,
   "id": "8a9ef4e9",
   "metadata": {},
   "outputs": [],
   "source": [
    "memory = MemorySaver()\n",
    "builder = StateGraph(State)\n",
    "\n",
    "# nodes\n",
    "builder.add_node('conv',conversation)\n",
    "builder.add_node('summ',summarization)\n",
    "\n",
    "# edges\n",
    "builder.add_edge(START,'conv')\n",
    "builder.add_conditional_edges('conv',should_continue)\n",
    "builder.add_edge('summ',END)\n",
    "\n",
    "graph = builder.compile(memory)"
   ]
  },
  {
   "cell_type": "code",
   "execution_count": 29,
   "id": "dc0b0623",
   "metadata": {},
   "outputs": [
    {
     "data": {
      "image/png": "[encoded data removed]",
      "text/plain": [
       "<langgraph.graph.state.CompiledStateGraph object at 0x785b201d6cc0>"
      ]
     },
     "execution_count": 29,
     "metadata": {},
     "output_type": "execute_result"
    }
   ],
   "source": [
    "graph"
   ]
  },
  {
   "cell_type": "markdown",
   "id": "edbd6df5",
   "metadata": {},
   "source": [
    "#### Streaming full state\n",
    "LangGraph supports a few different streaming modes for graph state:"
   ]
  },
  {
   "cell_type": "markdown",
   "id": "3ca644e0",
   "metadata": {},
   "source": [
    "updates: This streams updates to the state of the graph after each node is called."
   ]
  },
  {
   "cell_type": "code",
   "execution_count": 30,
   "id": "4be46440",
   "metadata": {},
   "outputs": [
    {
     "name": "stdout",
     "output_type": "stream",
     "text": [
      "{'conv': {'messages': AIMessage(content='Hello Jerry! Nice to meet you! Is there something I can help you with or would you like to chat?', additional_kwargs={}, response_metadata={'token_usage': {'completion_tokens': 24, 'prompt_tokens': 16, 'total_tokens': 40, 'completion_time': 0.100202862, 'prompt_time': 0.006885726, 'queue_time': 0.084150714, 'total_time': 0.107088588}, 'model_name': 'meta-llama/llama-4-maverick-17b-128e-instruct', 'system_fingerprint': 'fp_253f463456', 'finish_reason': 'stop', 'logprobs': None}, id='run-e89bcaf1-4790-4e02-ba9c-53e59004351c-0', usage_metadata={'input_tokens': 16, 'output_tokens': 24, 'total_tokens': 40})}}\n"
     ]
    }
   ],
   "source": [
    "config = {\"configurable\":{\"thread_id\":\"1\"}}\n",
    "\n",
    "for chunk in graph.stream({\"messages\":HumanMessage(content=\"Hi my name is jerry\")}, config=config, stream_mode=\"updates\"):\n",
    "    print(chunk)\n"
   ]
  },
  {
   "cell_type": "code",
   "execution_count": 33,
   "id": "2243aae9",
   "metadata": {},
   "outputs": [
    {
     "name": "stdout",
     "output_type": "stream",
     "text": [
      "{'conv': {'messages': AIMessage(content=\"Well, Jerry, it seems like you're not a fan of our feline friends. That's perfectly okay! People have different preferences when it comes to pets. What is it about cats that you don't like? Is there a particular reason or experience that's led you to feel this way?\", additional_kwargs={}, response_metadata={'token_usage': {'completion_tokens': 57, 'prompt_tokens': 53, 'total_tokens': 110, 'completion_time': 0.236577561, 'prompt_time': 0.008145777, 'queue_time': 0.229402732, 'total_time': 0.244723338}, 'model_name': 'meta-llama/llama-4-maverick-17b-128e-instruct', 'system_fingerprint': 'fp_253f463456', 'finish_reason': 'stop', 'logprobs': None}, id='run-bc501493-4912-4f47-a96d-5ec2b9b602c1-0', usage_metadata={'input_tokens': 53, 'output_tokens': 57, 'total_tokens': 110})}}\n"
     ]
    }
   ],
   "source": [
    "for chunk in graph.stream({\"messages\":HumanMessage(content=\"I hate cats!\")}, config=config, stream_mode=\"updates\"):\n",
    "    print(chunk)"
   ]
  },
  {
   "cell_type": "markdown",
   "id": "3995310b",
   "metadata": {},
   "source": [
    "values: This streams the full state of the graph after each node is called."
   ]
  },
  {
   "cell_type": "code",
   "execution_count": 43,
   "id": "0bd1f22e",
   "metadata": {},
   "outputs": [],
   "source": [
    "config = {\"configurable\":{\"thread_id\":\"3\"}}"
   ]
  },
  {
   "cell_type": "code",
   "execution_count": 44,
   "id": "ff61b6c1",
   "metadata": {},
   "outputs": [
    {
     "name": "stdout",
     "output_type": "stream",
     "text": [
      "================================\u001b[1m Human Message \u001b[0m=================================\n",
      "\n",
      "Hey, im tom\n",
      "---------------------------------------------------------------------------\n",
      "================================\u001b[1m Human Message \u001b[0m=================================\n",
      "\n",
      "Hey, im tom\n",
      "---------------------------------------------------------------------------\n",
      "==================================\u001b[1m Ai Message \u001b[0m==================================\n",
      "\n",
      "Hey Tom! Nice to meet you. How's it going?\n",
      "---------------------------------------------------------------------------\n"
     ]
    }
   ],
   "source": [
    "for event in graph.stream({\"messages\":[HumanMessage(content=\"Hey, im tom\")]}, config=config, stream_mode=\"values\"):\n",
    "    for m in event['messages']:\n",
    "        m.pretty_print()\n",
    "        print(\"---\"*25)"
   ]
  },
  {
   "cell_type": "code",
   "execution_count": null,
   "id": "6b6ec3d3",
   "metadata": {},
   "outputs": [],
   "source": []
  },
  {
   "cell_type": "markdown",
   "id": "968c141d",
   "metadata": {},
   "source": [
    "### Streaming tokens"
   ]
  },
  {
   "cell_type": "markdown",
   "id": "011a0df3",
   "metadata": {},
   "source": []
  }
 ],
 "metadata": {
  "kernelspec": {
   "display_name": "env",
   "language": "python",
   "name": "python3"
  },
  "language_info": {
   "codemirror_mode": {
    "name": "ipython",
    "version": 3
   },
   "file_extension": ".py",
   "mimetype": "text/x-python",
   "name": "python",
   "nbconvert_exporter": "python",
   "pygments_lexer": "ipython3",
   "version": "3.12.3"
  }
 },
 "nbformat": 4,
 "nbformat_minor": 5
}
