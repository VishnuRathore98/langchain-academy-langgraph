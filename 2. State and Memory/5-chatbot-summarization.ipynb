{
 "cells": [
  {
   "cell_type": "markdown",
   "id": "1569fe66",
   "metadata": {},
   "source": [
    "# Chatbot with message summarization\n",
    "\n",
    "## Review\n",
    "\n",
    "We've covered how to customize graph state schema and reducer. \n",
    " \n",
    "We've also shown a number of ways to trim or filter messages in graph state. \n",
    "\n",
    "## Goals\n",
    "\n",
    "Now, let's take it one step further! \n",
    "\n",
    "Rather than just trimming or filtering messages, we'll show how to use LLMs to produce a running summary of the conversation.\n",
    " \n",
    "This allows us to retain a compressed representation of the full conversation, rather than just removing it with trimming or filtering.\n",
    "\n",
    "We'll incorporate this summarization into a simple Chatbot.  \n",
    "\n",
    "And we'll equip that Chatbot with memory, supporting long-running conversations without incurring high token cost / latency. "
   ]
  },
  {
   "cell_type": "code",
   "execution_count": null,
   "id": "163a8eb1",
   "metadata": {},
   "outputs": [],
   "source": [
    "%%capture --no-stderr\n",
    "%pip install --quiet -U langchain_core langgraph langchain_openai"
   ]
  },
  {
   "cell_type": "code",
   "execution_count": null,
   "id": "dd07376a",
   "metadata": {},
   "outputs": [],
   "source": [
    "import os, getpass\n",
    "\n",
    "def _set_env(var: str):\n",
    "    if not os.environ.get(var):\n",
    "        os.environ[var] = getpass.getpass(f\"{var}: \")\n",
    "\n",
    "_set_env(\"OPENAI_API_KEY\")"
   ]
  },
  {
   "cell_type": "markdown",
   "id": "49892b03",
   "metadata": {},
   "source": [
    "We'll use [LangSmith](https://docs.smith.langchain.com/) for [tracing](https://docs.smith.langchain.com/concepts/tracing)."
   ]
  },
  {
   "cell_type": "code",
   "execution_count": null,
   "id": "0c638bcd",
   "metadata": {},
   "outputs": [],
   "source": [
    "_set_env(\"LANGCHAIN_API_KEY\")\n",
    "os.environ[\"LANGCHAIN_TRACING_V2\"] = \"true\"\n",
    "os.environ[\"LANGCHAIN_PROJECT\"] = \"langchain-academy\""
   ]
  },
  {
   "cell_type": "code",
   "execution_count": null,
   "id": "43553d57",
   "metadata": {},
   "outputs": [],
   "source": [
    "from langchain_openai import ChatOpenAI\n",
    "model = ChatOpenAI(model=\"gpt-4o\",temperature=0)"
   ]
  },
  {
   "cell_type": "markdown",
   "id": "eeeb3ce4",
   "metadata": {},
   "source": [
    "We'll use `MessagesState`, as before.\n",
    "\n",
    "In addition to the built-in `messages` key, we'll now include a custom key (`summary`)."
   ]
  },
  {
   "cell_type": "code",
   "execution_count": null,
   "id": "318c4af1",
   "metadata": {},
   "outputs": [],
   "source": [
    "from langgraph.graph import MessagesState\n",
    "class State(MessagesState):\n",
    "    summary: str"
   ]
  },
  {
   "cell_type": "markdown",
   "id": "59611ee5",
   "metadata": {},
   "source": [
    "We'll define a node to call our LLM that incorporates a summary, if it exists, into the prompt."
   ]
  },
  {
   "cell_type": "code",
   "execution_count": null,
   "id": "2896ef47",
   "metadata": {},
   "outputs": [],
   "source": [
    "from langchain_core.messages import SystemMessage, HumanMessage, RemoveMessage\n",
    "\n",
    "# Define the logic to call the model\n",
    "def call_model(state: State):\n",
    "    \n",
    "    # Get summary if it exists\n",
    "    summary = state.get(\"summary\", \"\")\n",
    "\n",
    "    # If there is summary, then we add it\n",
    "    if summary:\n",
    "        \n",
    "        # Add summary to system message\n",
    "        system_message = f\"Summary of conversation earlier: {summary}\"\n",
    "\n",
    "        # Append summary to any newer messages\n",
    "        messages = [SystemMessage(content=system_message)] + state[\"messages\"]\n",
    "    \n",
    "    else:\n",
    "        messages = state[\"messages\"]\n",
    "    \n",
    "    response = model.invoke(messages)\n",
    "    return {\"messages\": response}"
   ]
  },
  {
   "cell_type": "markdown",
   "id": "a95802c2",
   "metadata": {},
   "source": [
    "We'll define a node to produce a summary.\n",
    "\n",
    "Note, here we'll use `RemoveMessage` to filter our state after we've produced the summary."
   ]
  },
  {
   "cell_type": "code",
   "execution_count": null,
   "id": "dcf62fa4",
   "metadata": {},
   "outputs": [],
   "source": [
    "def summarize_conversation(state: State):\n",
    "    \n",
    "    # First, we get any existing summary\n",
    "    summary = state.get(\"summary\", \"\")\n",
    "\n",
    "    # Create our summarization prompt \n",
    "    if summary:\n",
    "        \n",
    "        # A summary already exists\n",
    "        summary_message = (\n",
    "            f\"This is summary of the conversation to date: {summary}\\n\\n\"\n",
    "            \"Extend the summary by taking into account the new messages above:\"\n",
    "        )\n",
    "        \n",
    "    else:\n",
    "        summary_message = \"Create a summary of the conversation above:\"\n",
    "\n",
    "    # Add prompt to our history\n",
    "    messages = state[\"messages\"] + [HumanMessage(content=summary_message)]\n",
    "    response = model.invoke(messages)\n",
    "    \n",
    "    # Delete all but the 2 most recent messages\n",
    "    delete_messages = [RemoveMessage(id=m.id) for m in state[\"messages\"][:-2]]\n",
    "    return {\"summary\": response.content, \"messages\": delete_messages}"
   ]
  },
  {
   "cell_type": "markdown",
   "id": "03eb0d90",
   "metadata": {},
   "source": [
    "We'll add a conditional edge to determine whether to produce a summary based on the conversation length."
   ]
  },
  {
   "cell_type": "code",
   "execution_count": null,
   "id": "a1e092b2",
   "metadata": {},
   "outputs": [],
   "source": [
    "from langgraph.graph import END\n",
    "# Determine whether to end or summarize the conversation\n",
    "def should_continue(state: State):\n",
    "    \n",
    "    \"\"\"Return the next node to execute.\"\"\"\n",
    "    \n",
    "    messages = state[\"messages\"]\n",
    "    \n",
    "    # If there are more than six messages, then we summarize the conversation\n",
    "    if len(messages) > 6:\n",
    "        return \"summarize_conversation\"\n",
    "    \n",
    "    # Otherwise we can just end\n",
    "    return END"
   ]
  },
  {
   "cell_type": "markdown",
   "id": "c1926043",
   "metadata": {},
   "source": [
    "## Adding memory\n",
    "\n",
    "Recall that [state is transient](https://github.com/langchain-ai/langgraph/discussions/352#discussioncomment-9291220) to a single graph execution.\n",
    "\n",
    "This limits our ability to have multi-turn conversations with interruptions. \n",
    "\n",
    "As introduced at the end of Module 1, we can use [persistence](https://langchain-ai.github.io/langgraph/how-tos/persistence/) to address this! \n",
    " \n",
    "LangGraph can use a checkpointer to automatically save the graph state after each step.\n",
    "\n",
    "This built-in persistence layer gives us memory, allowing LangGraph to pick up from the last state update. \n",
    "\n",
    "As we previously showed, one of the easiest to work with is `MemorySaver`, an in-memory key-value store for Graph state.\n",
    "\n",
    "All we need to do is compile the graph with a checkpointer, and our graph has memory!"
   ]
  },
  {
   "cell_type": "code",
   "execution_count": null,
   "id": "328d2acc",
   "metadata": {},
   "outputs": [
    {
     "data": {
      "image/jpeg": "[encoded data removed]",
      "text/plain": [
       "<IPython.core.display.Image object>"
      ]
     },
     "metadata": {},
     "output_type": "display_data"
    }
   ],
   "source": [
    "from IPython.display import Image, display\n",
    "from langgraph.checkpoint.memory import MemorySaver\n",
    "from langgraph.graph import StateGraph, START\n",
    "\n",
    "# Define a new graph\n",
    "workflow = StateGraph(State)\n",
    "workflow.add_node(\"conversation\", call_model)\n",
    "workflow.add_node(summarize_conversation)\n",
    "\n",
    "# Set the entrypoint as conversation\n",
    "workflow.add_edge(START, \"conversation\")\n",
    "workflow.add_conditional_edges(\"conversation\", should_continue)\n",
    "workflow.add_edge(\"summarize_conversation\", END)\n",
    "\n",
    "# Compile\n",
    "memory = MemorySaver()\n",
    "graph = workflow.compile(checkpointer=memory)\n",
    "display(Image(graph.get_graph().draw_mermaid_png()))"
   ]
  },
  {
   "cell_type": "markdown",
   "id": "2ff3080f",
   "metadata": {},
   "source": [
    "## Threads\n",
    "\n",
    "The checkpointer saves the state at each step as a checkpoint.\n",
    "\n",
    "These saved checkpoints can be grouped into a `thread` of conversation.\n",
    "\n",
    "Think about Slack as an analog: different channels carry different conversations.\n",
    "\n",
    "Threads are like Slack channels, capturing grouped collections of state (e.g., conversation).\n",
    "\n",
    "Below, we use `configurable` to set a thread ID.\n",
    "\n",
    "![state.jpg](https://cdn.prod.website-files.com/65b8cd72835ceeacd4449a53/66dbadf3b379c2ee621adfd1_chatbot-summarization1.png)"
   ]
  },
  {
   "cell_type": "code",
   "execution_count": null,
   "id": "8aeb0d7b",
   "metadata": {},
   "outputs": [
    {
     "name": "stdout",
     "output_type": "stream",
     "text": [
      "==================================\u001b[1m Ai Message \u001b[0m==================================\n",
      "\n",
      "Hi Lance! How can I assist you today?\n",
      "==================================\u001b[1m Ai Message \u001b[0m==================================\n",
      "\n",
      "You mentioned that your name is Lance. How can I help you today, Lance?\n",
      "==================================\u001b[1m Ai Message \u001b[0m==================================\n",
      "\n",
      "That's awesome, Lance! The San Francisco 49ers have a rich history and a passionate fan base. Do you have a favorite player or a memorable game that stands out to you?\n"
     ]
    }
   ],
   "source": [
    "# Create a thread\n",
    "config = {\"configurable\": {\"thread_id\": \"1\"}}\n",
    "\n",
    "# Start conversation\n",
    "input_message = HumanMessage(content=\"hi! I'm Lance\")\n",
    "output = graph.invoke({\"messages\": [input_message]}, config) \n",
    "for m in output['messages'][-1:]:\n",
    "    m.pretty_print()\n",
    "\n",
    "input_message = HumanMessage(content=\"what's my name?\")\n",
    "output = graph.invoke({\"messages\": [input_message]}, config) \n",
    "for m in output['messages'][-1:]:\n",
    "    m.pretty_print()\n",
    "\n",
    "input_message = HumanMessage(content=\"i like the 49ers!\")\n",
    "output = graph.invoke({\"messages\": [input_message]}, config) \n",
    "for m in output['messages'][-1:]:\n",
    "    m.pretty_print()"
   ]
  },
  {
   "cell_type": "markdown",
   "id": "1b6b8a5f",
   "metadata": {},
   "source": [
    "Now, we don't yet have a summary of the state because we still have < = 6 messages.\n",
    "\n",
    "This was set in `should_continue`. \n",
    "\n",
    "```\n",
    "    # If there are more than six messages, then we summarize the conversation\n",
    "    if len(messages) > 6:\n",
    "        return \"summarize_conversation\"\n",
    "```\n",
    "\n",
    "We can pick up the conversation because we have the thread."
   ]
  },
  {
   "cell_type": "code",
   "execution_count": null,
   "id": "e3101772",
   "metadata": {},
   "outputs": [
    {
     "data": {
      "text/plain": [
       "''"
      ]
     },
     "metadata": {},
     "output_type": "display_data"
    }
   ],
   "source": [
    "graph.get_state(config).values.get(\"summary\",\"\")"
   ]
  },
  {
   "cell_type": "markdown",
   "id": "9573ff47",
   "metadata": {},
   "source": [
    "The `config` with thread ID allows us to proceed from the previously logged state!"
   ]
  },
  {
   "cell_type": "code",
   "execution_count": null,
   "id": "879f0329",
   "metadata": {},
   "outputs": [
    {
     "name": "stdout",
     "output_type": "stream",
     "text": [
      "==================================\u001b[1m Ai Message \u001b[0m==================================\n",
      "\n",
      "Yes, Nick Bosa is indeed one of the highest-paid defensive players in the NFL. In September 2023, he signed a record-breaking contract extension with the San Francisco 49ers, making him the highest-paid defensive player at that time. His performance on the field has certainly earned him that recognition. It's great to hear you're a fan of such a talented player!\n"
     ]
    },
    {
     "name": "stderr",
     "output_type": "stream",
     "text": [
      "/var/folders/l9/bpjxdmfx7lvd1fbdjn38y5dh0000gn/T/ipykernel_18661/23381741.py:23: LangChainBetaWarning: The class `RemoveMessage` is in beta. It is actively being worked on, so the API may change.\n",
      "  delete_messages = [RemoveMessage(id=m.id) for m in state[\"messages\"][:-2]]\n"
     ]
    }
   ],
   "source": [
    "input_message = HumanMessage(content=\"i like Nick Bosa, isn't he the highest paid defensive player?\")\n",
    "output = graph.invoke({\"messages\": [input_message]}, config) \n",
    "for m in output['messages'][-1:]:\n",
    "    m.pretty_print()"
   ]
  },
  {
   "cell_type": "code",
   "execution_count": null,
   "id": "98eff49f",
   "metadata": {},
   "outputs": [
    {
     "data": {
      "text/plain": [
       "\"Lance introduced himself and mentioned that he is a fan of the San Francisco 49ers. He specifically likes Nick Bosa and inquired if Bosa is the highest-paid defensive player. I confirmed that Nick Bosa signed a record-breaking contract extension in September 2023, making him the highest-paid defensive player at that time, and acknowledged Bosa's talent and Lance's enthusiasm for the player.\""
      ]
     },
     "metadata": {},
     "output_type": "display_data"
    }
   ],
   "source": [
    "graph.get_state(config).values.get(\"summary\",\"\")"
   ]
  },
  {
   "cell_type": "code",
   "execution_count": null,
   "id": "9d58d6ab",
   "metadata": {},
   "outputs": [],
   "source": []
  },
  {
   "cell_type": "code",
   "execution_count": null,
   "id": "fe5a203b",
   "metadata": {},
   "outputs": [],
   "source": []
  },
  {
   "cell_type": "markdown",
   "id": "4cd52866",
   "metadata": {},
   "source": [
    "----------------------------- Experiments -----------------------------------"
   ]
  },
  {
   "cell_type": "code",
   "execution_count": 1,
   "id": "cd2b3f9d",
   "metadata": {},
   "outputs": [],
   "source": [
    "from langgraph.graph import MessagesState\n",
    "from langchain_groq import ChatGroq\n",
    "from langchain_core.messages import AIMessage, HumanMessage, SystemMessage, RemoveMessage\n",
    "from langgraph.graph import StateGraph, START, END\n",
    "from langgraph.checkpoint.memory import MemorySaver"
   ]
  },
  {
   "cell_type": "code",
   "execution_count": 2,
   "id": "2aa465c1",
   "metadata": {},
   "outputs": [],
   "source": [
    "import os\n",
    "from dotenv import load_dotenv"
   ]
  },
  {
   "cell_type": "code",
   "execution_count": 3,
   "id": "d5c29905",
   "metadata": {},
   "outputs": [],
   "source": [
    "load_dotenv()\n",
    "CHAT_LLAMA = os.getenv(\"CHAT_LLAMA\")"
   ]
  },
  {
   "cell_type": "code",
   "execution_count": 4,
   "id": "f9877e71",
   "metadata": {},
   "outputs": [],
   "source": [
    "model = ChatGroq(model=CHAT_LLAMA)"
   ]
  },
  {
   "cell_type": "code",
   "execution_count": 39,
   "id": "59bc271c",
   "metadata": {},
   "outputs": [],
   "source": [
    "class State(MessagesState):\n",
    "    \"\"\"State maintainer for summary and messages\"\"\"\n",
    "    summary: str"
   ]
  },
  {
   "cell_type": "code",
   "execution_count": null,
   "id": "6c14027e",
   "metadata": {},
   "outputs": [],
   "source": [
    "def conversation(state:State):\n",
    "\n",
    "    summary = state.get('summary')\n",
    "\n",
    "    if summary:\n",
    "        system_message = f\"The following is the summary of our conversation so far: {summary}.\"\n",
    "        messages = [SystemMessage(content=system_message)]+state['messages']\n",
    "    else:\n",
    "        messages = state['messages']\n",
    "\n",
    "    output = model.invoke(messages)\n",
    "\n",
    "    return ({'messages':output})"
   ]
  },
  {
   "cell_type": "code",
   "execution_count": null,
   "id": "27b5bf5e",
   "metadata": {},
   "outputs": [],
   "source": []
  },
  {
   "cell_type": "code",
   "execution_count": 41,
   "id": "89a81a2e",
   "metadata": {},
   "outputs": [],
   "source": [
    "def summarization(state:State):\n",
    "    \n",
    "    summary = state.get('summary')\n",
    "\n",
    "    if summary:\n",
    "        new_summary = f\"Here the summary of our conversation so far:{summary}, create a new summary using the new conversation messages above.\"\n",
    "    else:\n",
    "        new_summary = f\"Create the summary of the above conversation\"\n",
    "\n",
    "    output = model.invoke(state['messages']+[HumanMessage(content=new_summary)])\n",
    "    recent_messages = [RemoveMessage(id=m.id) for m in state['messages'][:-2]]\n",
    "\n",
    "    return {'summary':output.content, 'messages':recent_messages}"
   ]
  },
  {
   "cell_type": "code",
   "execution_count": 42,
   "id": "e3128bad",
   "metadata": {},
   "outputs": [],
   "source": [
    "def should_continue(state:State):\n",
    "    \"\"\"Returns the next node for execution.\"\"\"\n",
    "    messages = state['messages']\n",
    "    if len(messages)>6:\n",
    "        return \"summarization\"\n",
    "    else:\n",
    "        return END"
   ]
  },
  {
   "cell_type": "code",
   "execution_count": null,
   "id": "48f7647f",
   "metadata": {},
   "outputs": [],
   "source": []
  },
  {
   "cell_type": "code",
   "execution_count": 43,
   "id": "26b33833",
   "metadata": {},
   "outputs": [],
   "source": [
    "memory = MemorySaver()\n",
    "builder = StateGraph(State)\n",
    "\n",
    "builder.add_node('conversation', conversation)\n",
    "builder.add_node('summarization', summarization)\n",
    "\n",
    "builder.add_edge(START,'conversation')\n",
    "builder.add_conditional_edges('conversation',should_continue)\n",
    "builder.add_edge('summarization',END)\n",
    "\n",
    "graph = builder.compile(checkpointer=memory)"
   ]
  },
  {
   "cell_type": "code",
   "execution_count": 44,
   "id": "71e94d36",
   "metadata": {},
   "outputs": [
    {
     "data": {
      "image/png": "[encoded data removed]",
      "text/plain": [
       "<langgraph.graph.state.CompiledStateGraph object at 0x77b29ff307d0>"
      ]
     },
     "execution_count": 44,
     "metadata": {},
     "output_type": "execute_result"
    }
   ],
   "source": [
    "graph"
   ]
  },
  {
   "cell_type": "code",
   "execution_count": 45,
   "id": "6a5727c1",
   "metadata": {},
   "outputs": [
    {
     "name": "stdout",
     "output_type": "stream",
     "text": [
      "1\n",
      "2\n",
      "3\n",
      "4\n",
      "==================================\u001b[1m Ai Message \u001b[0m==================================\n",
      "\n",
      "Hello Mark! It's nice to meet you. Is there something I can help you with or would you like to chat?\n"
     ]
    }
   ],
   "source": [
    "\n",
    "# Start conversation\n",
    "config={'configurable':{'thread_id':'thread1'}}\n",
    "input_message = HumanMessage(content=\"hi! I'm Mark\")\n",
    "output = graph.invoke({\"messages\": [input_message]}, config=config) \n",
    "for m in output['messages'][-1:]:\n",
    "    m.pretty_print()\n",
    "\n"
   ]
  },
  {
   "cell_type": "code",
   "execution_count": 46,
   "id": "ceca7ddf",
   "metadata": {},
   "outputs": [
    {
     "name": "stdout",
     "output_type": "stream",
     "text": [
      "1\n",
      "2\n",
      "3\n",
      "4\n",
      "==================================\u001b[1m Ai Message \u001b[0m==================================\n",
      "\n",
      "I'm just a language model, so I don't have feelings or emotions like humans do, but I'm functioning properly and ready to assist you with any questions or topics you'd like to discuss. How can I help you today, Mark?\n"
     ]
    }
   ],
   "source": [
    "input_message = HumanMessage(content=\"Im doing fine how about you?\")\n",
    "output = graph.invoke({\"messages\": [input_message]}, config=config) \n",
    "for m in output['messages'][-1:]:\n",
    "    m.pretty_print()"
   ]
  },
  {
   "cell_type": "code",
   "execution_count": 47,
   "id": "187ef67e",
   "metadata": {},
   "outputs": [
    {
     "name": "stdout",
     "output_type": "stream",
     "text": [
      "1\n",
      "2\n",
      "3\n",
      "4\n",
      "==================================\u001b[1m Ai Message \u001b[0m==================================\n",
      "\n",
      "Cricket is a fantastic sport. What aspect of cricket do you enjoy the most? Is it the thrill of watching a match, playing with friends, or following a particular team or player?\n"
     ]
    }
   ],
   "source": [
    "input_message = HumanMessage(content=\"I like cricket\")\n",
    "output = graph.invoke({\"messages\": [input_message]}, config=config) \n",
    "for m in output['messages'][-1:]:\n",
    "    m.pretty_print()"
   ]
  },
  {
   "cell_type": "code",
   "execution_count": 48,
   "id": "29df22fb",
   "metadata": {},
   "outputs": [
    {
     "name": "stdout",
     "output_type": "stream",
     "text": [
      "1\n",
      "2\n",
      "3\n",
      "4\n",
      "==================================\u001b[1m Ai Message \u001b[0m==================================\n",
      "\n",
      "A legendary choice! Sachin Tendulkar is widely regarded as one of the greatest batsmen in the history of cricket. His incredible career, records, and achievements have made him a household name. What is it about Sachin Tendulkar that you admire the most? Is it his incredible batting skills, his dedication to the sport, or his inspiring career milestones that you find most captivating?\n"
     ]
    }
   ],
   "source": [
    "input_message = HumanMessage(content=\"I am a fan of Sachin Tendulkar\")\n",
    "output = graph.invoke({\"messages\": [input_message]}, config=config) \n",
    "for m in output['messages'][-1:]:\n",
    "    m.pretty_print()"
   ]
  },
  {
   "cell_type": "code",
   "execution_count": 49,
   "id": "9159f44b",
   "metadata": {},
   "outputs": [
    {
     "name": "stdout",
     "output_type": "stream",
     "text": [
      "1\n",
      "2\n",
      "3\n",
      "4\n",
      "==================================\u001b[1m Ai Message \u001b[0m==================================\n",
      "\n",
      "Not much, actually! I'm just a conversational AI, and our conversation just started. You introduced yourself as a fan of Sachin Tendulkar, and I responded to that. I'm happy to chat with you and learn more about your interests. What would you like to talk about or ask?\n"
     ]
    }
   ],
   "source": [
    "input_message = HumanMessage(content=\"what do you know about me?\")\n",
    "output = graph.invoke({\"messages\": [input_message]}, config=config) \n",
    "for m in output['messages'][-1:]:\n",
    "    m.pretty_print()"
   ]
  },
  {
   "cell_type": "code",
   "execution_count": 50,
   "id": "66367910",
   "metadata": {},
   "outputs": [
    {
     "data": {
      "text/plain": [
       "{'messages': [HumanMessage(content='I am a fan of Sachin Tendulkar', additional_kwargs={}, response_metadata={}, id='0fcfab04-f261-460f-8c92-45be20d50100'),\n",
       "  AIMessage(content='A legendary choice! Sachin Tendulkar is widely regarded as one of the greatest batsmen in the history of cricket. His incredible career, records, and achievements have made him a household name. What is it about Sachin Tendulkar that you admire the most? Is it his incredible batting skills, his dedication to the sport, or his inspiring career milestones that you find most captivating?', additional_kwargs={}, response_metadata={'token_usage': {'completion_tokens': 80, 'prompt_tokens': 171, 'total_tokens': 251, 'completion_time': 0.329929198, 'prompt_time': 0.015373767, 'queue_time': 0.04913044300000001, 'total_time': 0.345302965}, 'model_name': 'meta-llama/llama-4-maverick-17b-128e-instruct', 'system_fingerprint': 'fp_253f463456', 'finish_reason': 'stop', 'logprobs': None}, id='run-9e1d7bc9-243a-47f5-a706-f1438c8a0d63-0', usage_metadata={'input_tokens': 171, 'output_tokens': 80, 'total_tokens': 251}),\n",
       "  HumanMessage(content='what do you know about me?', additional_kwargs={}, response_metadata={}, id='6440c966-2dc9-4eca-8ea8-50223a114719'),\n",
       "  AIMessage(content=\"Not much, actually! I'm just a conversational AI, and our conversation just started. You introduced yourself as a fan of Sachin Tendulkar, and I responded to that. I'm happy to chat with you and learn more about your interests. What would you like to talk about or ask?\", additional_kwargs={}, response_metadata={'token_usage': {'completion_tokens': 61, 'prompt_tokens': 239, 'total_tokens': 300, 'completion_time': 0.251495201, 'prompt_time': 0.00998594, 'queue_time': 0.049993735000000004, 'total_time': 0.261481141}, 'model_name': 'meta-llama/llama-4-maverick-17b-128e-instruct', 'system_fingerprint': 'fp_253f463456', 'finish_reason': 'stop', 'logprobs': None}, id='run-699450ed-d81b-4f3c-b6c1-4da16b6dd38b-0', usage_metadata={'input_tokens': 239, 'output_tokens': 61, 'total_tokens': 300})],\n",
       " 'summary': \"Here is a summary of the conversation:\\n\\n* Mark greets and introduces himself.\\n* Mark is asked how he's doing and responds that he's fine.\\n* The conversation is initiated by asking how the AI is doing.\\n* Mark shares that he is a fan of cricket.\\n* The topic of his interest in cricket is explored further, specifically his fondness for Sachin Tendulkar.\\n* A summary of Sachin Tendulkar's cricketing career is not requested, but his being a fan of Sachin Tendulkar is acknowledged.\"}"
      ]
     },
     "execution_count": 50,
     "metadata": {},
     "output_type": "execute_result"
    }
   ],
   "source": [
    "output"
   ]
  },
  {
   "cell_type": "code",
   "execution_count": 51,
   "id": "9090ac16",
   "metadata": {},
   "outputs": [
    {
     "name": "stdout",
     "output_type": "stream",
     "text": [
      "1\n",
      "2\n",
      "3\n",
      "4\n",
      "==================================\u001b[1m Ai Message \u001b[0m==================================\n",
      "\n",
      "The current Prime Minister of India is Narendra Modi. He has been serving as the Prime Minister since 2014. However, please note that the information may change over time, and I'm assuming the information is current as of my knowledge cutoff. If you need the most recent information, I suggest verifying it through a reliable news source or official government websites.\n"
     ]
    }
   ],
   "source": [
    "input_message = HumanMessage(content=\"Who is the prime minister of India?\")\n",
    "output = graph.invoke({\"messages\": [input_message]}, config=config) \n",
    "for m in output['messages'][-1:]:\n",
    "    m.pretty_print()"
   ]
  },
  {
   "cell_type": "code",
   "execution_count": 52,
   "id": "25c7b7fa",
   "metadata": {},
   "outputs": [
    {
     "name": "stdout",
     "output_type": "stream",
     "text": [
      "1\n",
      "2\n",
      "3\n",
      "4\n",
      "==================================\u001b[1m Ai Message \u001b[0m==================================\n",
      "\n",
      "Narendra Modi is the 14th and current Prime Minister of India. He has been in office since 2014 and has been re-elected in 2019 for a second term. Modi is a prominent figure in Indian politics and has been a key leader of the Bharatiya Janata Party (BJP). He has implemented various policies and initiatives during his tenure, and his government has been known for its efforts to promote economic growth, infrastructure development, and social welfare programs, among other things.\n"
     ]
    }
   ],
   "source": [
    "input_message = HumanMessage(content=\"what do you know about him?\")\n",
    "output = graph.invoke({\"messages\": [input_message]}, config=config) \n",
    "for m in output['messages'][-1:]:\n",
    "    m.pretty_print()"
   ]
  },
  {
   "cell_type": "code",
   "execution_count": 54,
   "id": "086e3a6b",
   "metadata": {},
   "outputs": [
    {
     "data": {
      "text/plain": [
       "2"
      ]
     },
     "execution_count": 54,
     "metadata": {},
     "output_type": "execute_result"
    }
   ],
   "source": [
    "len(output['messages'])"
   ]
  },
  {
   "cell_type": "code",
   "execution_count": 55,
   "id": "33c320cc",
   "metadata": {},
   "outputs": [
    {
     "name": "stdout",
     "output_type": "stream",
     "text": [
      "1\n",
      "2\n",
      "3\n",
      "4\n",
      "==================================\u001b[1m Ai Message \u001b[0m==================================\n",
      "\n",
      "The current Foreign Minister of India is S. Jaishankar. He has been serving as the Minister of External Affairs since 2019, overseeing India's foreign policy and diplomatic relations with other countries. S. Jaishankar is a seasoned politician and diplomat, and has played a key role in shaping India's international relations.\n"
     ]
    },
    {
     "data": {
      "text/plain": [
       "4"
      ]
     },
     "execution_count": 55,
     "metadata": {},
     "output_type": "execute_result"
    }
   ],
   "source": [
    "input_message = HumanMessage(content=\"Who is the foreign minister of india?\")\n",
    "output = graph.invoke({\"messages\": [input_message]}, config=config) \n",
    "for m in output['messages'][-1:]:\n",
    "    m.pretty_print()\n",
    "\n",
    "len(output['messages'])\n"
   ]
  },
  {
   "cell_type": "code",
   "execution_count": null,
   "id": "8b42b6fe",
   "metadata": {},
   "outputs": [],
   "source": [
    "input_message = HumanMessage(content=\"Who is the ceo of tcs?\")\n",
    "output = graph.invoke({\"messages\": [input_message]}, config=config) \n",
    "for m in output['messages'][-1:]:\n",
    "    m.pretty_print()\n",
    "\n",
    "len(output['messages'])"
   ]
  },
  {
   "cell_type": "code",
   "execution_count": 58,
   "id": "8107aed3",
   "metadata": {},
   "outputs": [
    {
     "name": "stdout",
     "output_type": "stream",
     "text": [
      "1\n",
      "2\n",
      "3\n",
      "4\n",
      "==================================\u001b[1m Ai Message \u001b[0m==================================\n",
      "\n",
      "The population of Manipur, a state in northeastern India, is approximately 3.2 million people, according to the 2011 census. However, the numbers may have changed due to various factors such as population growth. As of 2020, the estimated population is around 3.4 million. Manipur is a state with a diverse geography and demographics.\n"
     ]
    },
    {
     "data": {
      "text/plain": [
       "2"
      ]
     },
     "execution_count": 58,
     "metadata": {},
     "output_type": "execute_result"
    }
   ],
   "source": [
    "input_message = HumanMessage(content=\"what is the population of manipur?\")\n",
    "output = graph.invoke({\"messages\": [input_message]}, config=config) \n",
    "for m in output['messages'][-1:]:\n",
    "    m.pretty_print()\n",
    "\n",
    "len(output['messages'])"
   ]
  },
  {
   "cell_type": "code",
   "execution_count": 62,
   "id": "e4e2bb21",
   "metadata": {},
   "outputs": [
    {
     "name": "stdout",
     "output_type": "stream",
     "text": [
      "(\"Here's a summary of our conversation:\\n\"\n",
      " '\\n'\n",
      " '1. You initially mentioned being a fan of Sachin Tendulkar.\\n'\n",
      " '2. I acknowledged your fondness for Sachin Tendulkar, a renowned Indian '\n",
      " 'cricketer.\\n'\n",
      " '3. You inquired about my knowledge regarding you, to which I responded that '\n",
      " \"I'm a machine and don't have personal experiences or preferences.\\n\"\n",
      " '4. You asked about the current Prime Minister of India, and I provided '\n",
      " 'information about Narendra Modi.\\n'\n",
      " '5. You inquired about the Foreign Minister of India, and I provided the '\n",
      " 'relevant information, stating that S. Jaishankar is the current Foreign '\n",
      " 'Minister.\\n'\n",
      " '6. You asked about the CEO of TCS, and I provided some information, '\n",
      " 'mentioning that the CEO is likely to be one of the business unit heads.\\n'\n",
      " '7. You inquired about the population of Manipur, and I provided the relevant '\n",
      " 'information, stating that the population is approximately 3.2 million as per '\n",
      " 'the 2011 census.\\n'\n",
      " '\\n'\n",
      " \"Let's continue the conversation if you'd like.\")\n"
     ]
    }
   ],
   "source": [
    "from pprint import pprint\n",
    "pprint(output['summary'])"
   ]
  },
  {
   "cell_type": "code",
   "execution_count": 63,
   "id": "0579b6e4",
   "metadata": {},
   "outputs": [
    {
     "name": "stdout",
     "output_type": "stream",
     "text": [
      "1\n",
      "2\n",
      "3\n",
      "4\n",
      "==================================\u001b[1m Ai Message \u001b[0m==================================\n",
      "\n",
      "You are an individual who is inquiring about various topics, and I, a machine, am here to provide you with the information you need. You have asked about several different subjects, and I've been responding accordingly.\n"
     ]
    }
   ],
   "source": [
    "input_message = HumanMessage(content=\"Who am I?\")\n",
    "output = graph.invoke({\"messages\": [input_message]}, config=config) \n",
    "for m in output['messages'][-1:]:\n",
    "    m.pretty_print()"
   ]
  },
  {
   "cell_type": "code",
   "execution_count": 64,
   "id": "4896b901",
   "metadata": {},
   "outputs": [
    {
     "name": "stdout",
     "output_type": "stream",
     "text": [
      "1\n",
      "2\n",
      "3\n",
      "4\n",
      "==================================\u001b[1m Ai Message \u001b[0m==================================\n",
      "\n",
      "You haven't mentioned your name. Our conversation just started, and I'm here to provide information on various topics you've asked about. If you'd like to share your name, I can address you by it, but it's not necessary as I'm a machine and don't have personal interactions.\n"
     ]
    }
   ],
   "source": [
    "input_message = HumanMessage(content=\"what is my name?\")\n",
    "output = graph.invoke({\"messages\": [input_message]}, config=config) \n",
    "for m in output['messages'][-1:]:\n",
    "    m.pretty_print()"
   ]
  },
  {
   "cell_type": "code",
   "execution_count": 65,
   "id": "2dca83fa",
   "metadata": {},
   "outputs": [
    {
     "name": "stdout",
     "output_type": "stream",
     "text": [
      "1\n",
      "2\n",
      "3\n",
      "4\n",
      "==================================\u001b[1m Ai Message \u001b[0m==================================\n",
      "\n",
      "Here's a summary of our conversation so far:\n",
      "\n",
      "1. You initially mentioned being a fan of Sachin Tendulkar.\n",
      "2. I acknowledged your fondness for Sachin Tendulkar, a renowned Indian cricketer.\n",
      "3. You inquired about my knowledge regarding you, to which I responded that I'm a machine and don't have personal experiences or preferences.\n",
      "4. You asked about the current Prime Minister of India, and I provided information about Narendra Modi.\n",
      "5. You inquired about the Foreign Minister of India, and I provided the relevant information, stating that S. Jaishankar is the current Foreign Minister.\n",
      "6. You asked about the CEO of TCS, and I provided some information, mentioning that the CEO is likely to be one of the business unit heads, but more specifically the global CEO is Natarajan Chandrasekaran.\n",
      "7. You inquired about the population of Manipur, and I provided the relevant information, stating that the population is approximately 3.2 million as per the 2011 census.\n",
      "\n",
      "Let's continue the conversation if you'd like.\n"
     ]
    }
   ],
   "source": [
    "input_message = HumanMessage(content=\"provide me a summary of our conversation so far?\")\n",
    "output = graph.invoke({\"messages\": [input_message]}, config=config) \n",
    "for m in output['messages'][-1:]:\n",
    "    m.pretty_print()"
   ]
  },
  {
   "cell_type": "code",
   "execution_count": null,
   "id": "2aeda4a5",
   "metadata": {},
   "outputs": [],
   "source": [
    "input_message = HumanMessage(content=\"What is nvidia cuda?\")\n",
    "output = graph.invoke({\"messages\": [input_message]}, config=config) \n",
    "for m in output['messages'][-1:]:\n",
    "    m.pretty_print()"
   ]
  },
  {
   "cell_type": "code",
   "execution_count": null,
   "id": "3c90e644",
   "metadata": {},
   "outputs": [],
   "source": [
    "input_message = HumanMessage(content=\"Who was aristotal?\")\n",
    "output = graph.invoke({\"messages\": [input_message]}, config=config) \n",
    "for m in output['messages'][-1:]:\n",
    "    m.pretty_print()"
   ]
  },
  {
   "cell_type": "code",
   "execution_count": 69,
   "id": "0cb3cf25",
   "metadata": {},
   "outputs": [
    {
     "data": {
      "text/plain": [
       "6"
      ]
     },
     "execution_count": 69,
     "metadata": {},
     "output_type": "execute_result"
    }
   ],
   "source": [
    "len(output['messages'])"
   ]
  },
  {
   "cell_type": "code",
   "execution_count": 70,
   "id": "93b9b002",
   "metadata": {},
   "outputs": [
    {
     "name": "stdout",
     "output_type": "stream",
     "text": [
      "1\n",
      "2\n",
      "3\n",
      "4\n",
      "==================================\u001b[1m Ai Message \u001b[0m==================================\n",
      "\n",
      "There are 8 planets in our solar system.\n",
      "\n",
      "The 8 planets, in order from the Sun, are:\n",
      "\n",
      "1. Mercury\n",
      "2. Venus\n",
      "3. Earth\n",
      "4. Mars\n",
      "5. Jupiter\n",
      "6. Saturn\n",
      "7. Uranus\n",
      "8. Neptune\n",
      "\n",
      "In addition to these 8 planets, there are also other objects in our solar system, such as:\n",
      "\n",
      "* Dwarf planets (e.g., Pluto, Eris, Ceres)\n",
      "* Asteroids\n",
      "* Comets\n",
      "* Kuiper Belt Objects (KBOs)\n",
      "* Other smaller bodies like meteoroids and artificial satellites.\n",
      "\n",
      "The definition of a planet has evolved over time, and the International Astronomical Union (IAU) redefined the term \"planet\" in 2006, which led to the reclassification of Pluto and other similar objects as dwarf planets.\n",
      "\n",
      "So, to summarize, our solar system consists of 8 planets, plus various other smaller bodies and objects.\n"
     ]
    }
   ],
   "source": [
    "input_message = HumanMessage(content=\"how many planets are in solar system?\")\n",
    "output = graph.invoke({\"messages\": [input_message]}, config=config) \n",
    "for m in output['messages'][-1:]:\n",
    "    m.pretty_print()\n",
    "    "
   ]
  },
  {
   "cell_type": "code",
   "execution_count": 71,
   "id": "8521f417",
   "metadata": {},
   "outputs": [
    {
     "data": {
      "text/plain": [
       "\"Here is a summary of our conversation so far:\\n\\n1. You asked me to provide a summary of our conversation so far.\\n2. I provided a summary stating that we had just started our conversation and that you had asked about the population of Manipur, and I had provided the relevant information.\\n3. You inquired about NVIDIA CUDA.\\n4. I provided information about NVIDIA CUDA, explaining its purpose, features, and applications.\\n5. You asked about Aristotle.\\n6. I provided information about Aristotle, a Greek philosopher, and his contributions to various fields, including philosophy, science, and ethics.\\n7. You inquired about the number of planets in our solar system.\\n8. I provided the information, stating that there are 8 planets in our solar system, listing them in order from the Sun.\\n\\nLet's continue the conversation if you'd like.\""
      ]
     },
     "execution_count": 71,
     "metadata": {},
     "output_type": "execute_result"
    }
   ],
   "source": [
    "output['summary']"
   ]
  },
  {
   "cell_type": "code",
   "execution_count": 74,
   "id": "5d5336fd",
   "metadata": {},
   "outputs": [
    {
     "data": {
      "text/plain": [
       "\"Here is a summary of our conversation so far:\\n\\n1. You asked me to provide a summary of our conversation so far.\\n2. I provided a summary stating that we had just started our conversation and that you had asked about the population of Manipur, and I had provided the relevant information.\\n3. You inquired about NVIDIA CUDA.\\n4. I provided information about NVIDIA CUDA, explaining its purpose, features, and applications.\\n5. You asked about Aristotle.\\n6. I provided information about Aristotle, a Greek philosopher, and his contributions to various fields, including philosophy, science, and ethics.\\n7. You inquired about the number of planets in our solar system.\\n8. I provided the information, stating that there are 8 planets in our solar system, listing them in order from the Sun.\\n\\nLet's continue the conversation if you'd like.\""
      ]
     },
     "execution_count": 74,
     "metadata": {},
     "output_type": "execute_result"
    }
   ],
   "source": [
    "graph.get_state(config).values.get(\"summary\")"
   ]
  },
  {
   "cell_type": "code",
   "execution_count": null,
   "id": "36d641c7",
   "metadata": {},
   "outputs": [],
   "source": []
  }
 ],
 "metadata": {
  "kernelspec": {
   "display_name": "env",
   "language": "python",
   "name": "python3"
  },
  "language_info": {
   "codemirror_mode": {
    "name": "ipython",
    "version": 3
   },
   "file_extension": ".py",
   "mimetype": "text/x-python",
   "name": "python",
   "nbconvert_exporter": "python",
   "pygments_lexer": "ipython3",
   "version": "3.12.3"
  }
 },
 "nbformat": 4,
 "nbformat_minor": 5
}
