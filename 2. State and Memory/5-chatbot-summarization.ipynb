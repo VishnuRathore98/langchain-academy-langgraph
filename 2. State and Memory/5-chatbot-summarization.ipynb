{
 "cells": [
  {
   "cell_type": "code",
   "execution_count": 18,
   "id": "cd2b3f9d",
   "metadata": {},
   "outputs": [],
   "source": [
    "from langgraph.graph import MessagesState\n",
    "from langchain_groq import ChatGroq\n",
    "from langchain_core.messages import AIMessage, HumanMessage, SystemMessage, RemoveMessage"
   ]
  },
  {
   "cell_type": "code",
   "execution_count": 19,
   "id": "2aa465c1",
   "metadata": {},
   "outputs": [],
   "source": [
    "import os\n",
    "from dotenv import load_dotenv"
   ]
  },
  {
   "cell_type": "code",
   "execution_count": 20,
   "id": "d5c29905",
   "metadata": {},
   "outputs": [],
   "source": [
    "load_dotenv()\n",
    "CHAT_LLAMA = os.getenv(\"CHAT_LLAMA\")"
   ]
  },
  {
   "cell_type": "code",
   "execution_count": 21,
   "id": "f9877e71",
   "metadata": {},
   "outputs": [],
   "source": [
    "model = ChatGroq(model=CHAT_LLAMA)"
   ]
  },
  {
   "cell_type": "code",
   "execution_count": 22,
   "id": "59bc271c",
   "metadata": {},
   "outputs": [],
   "source": [
    "class State(MessagesState):\n",
    "    \"\"\"State maintainer for summary and messages\"\"\"\n",
    "    summary: str"
   ]
  },
  {
   "cell_type": "code",
   "execution_count": null,
   "id": "6c14027e",
   "metadata": {},
   "outputs": [],
   "source": [
    "def conversation(state:State):\n",
    "    \n",
    "    summary = state.get('summary')\n",
    "    \n",
    "    if summary:\n",
    "        system_message = f\"The following is the summary of our conversation so far: {summary}.\"\n",
    "        messages = [SystemMessage(content=system_message)+state['messages']]\n",
    "    else:\n",
    "        messages = state['messages']\n",
    "\n",
    "    output = model.invoke(messages)\n",
    "\n",
    "    return ({'messages':output})"
   ]
  },
  {
   "cell_type": "code",
   "execution_count": 24,
   "id": "89a81a2e",
   "metadata": {},
   "outputs": [],
   "source": [
    "def summarization(state:State):\n",
    "    \n",
    "    summary = state.get('summary')\n",
    "\n",
    "    if summary:\n",
    "        new_summary = f\"Here the summary of our conversation so far:{summary} create the new summary using the new conversation messages above.\"\n",
    "    else:\n",
    "        new_summary = f\"Create the summary of the above conversation\"\n",
    "\n",
    "    output = model.invoke(state['messages']+[SystemMessage(content=new_summary)])\n",
    "    recent_messages = [RemoveMessage(m.id) for m in state['messages'][:-2]]\n",
    "\n",
    "    return {'summary':output.content, 'messages':recent_messages}"
   ]
  },
  {
   "cell_type": "code",
   "execution_count": 25,
   "id": "e3128bad",
   "metadata": {},
   "outputs": [],
   "source": [
    "\n",
    "def should_continue(state:State):\n",
    "    \n",
    "    messages = state['messages']\n",
    "    if len(messages)>6:\n",
    "        return \"summarization\"\n",
    "    else:\n",
    "        return END\n"
   ]
  },
  {
   "cell_type": "code",
   "execution_count": 26,
   "id": "48f7647f",
   "metadata": {},
   "outputs": [],
   "source": [
    "from langgraph.graph import StateGraph, START, END\n",
    "from langgraph.checkpoint.memory import MemorySaver"
   ]
  },
  {
   "cell_type": "code",
   "execution_count": 27,
   "id": "26b33833",
   "metadata": {},
   "outputs": [],
   "source": [
    "memory = MemorySaver()\n",
    "builder = StateGraph(State)\n",
    "\n",
    "builder.add_node('conversation', conversation)\n",
    "builder.add_node('summarization', summarization)\n",
    "\n",
    "builder.add_edge(START,'conversation')\n",
    "builder.add_conditional_edges('conversation',should_continue)\n",
    "builder.add_edge('summarization',END)\n",
    "\n",
    "graph = builder.compile(checkpointer=memory)"
   ]
  },
  {
   "cell_type": "code",
   "execution_count": 28,
   "id": "71e94d36",
   "metadata": {},
   "outputs": [
    {
     "data": {
      "image/png": "[encoded data removed]",
      "text/plain": [
       "<langgraph.graph.state.CompiledStateGraph object at 0x798614f24bc0>"
      ]
     },
     "execution_count": 28,
     "metadata": {},
     "output_type": "execute_result"
    }
   ],
   "source": [
    "graph"
   ]
  },
  {
   "cell_type": "code",
   "execution_count": 29,
   "id": "6a5727c1",
   "metadata": {},
   "outputs": [
    {
     "name": "stdout",
     "output_type": "stream",
     "text": [
      "================================\u001b[1m Human Message \u001b[0m=================================\n",
      "\n",
      "Nice to meet you, Mark! How's it going?\n"
     ]
    }
   ],
   "source": [
    "\n",
    "# Start conversation\n",
    "config={'configurable':{'thread_id':'thread1'}}\n",
    "input_message = HumanMessage(content=\"hi! I'm Mark\")\n",
    "output = graph.invoke({\"messages\": [input_message]}, config=config) \n",
    "for m in output['messages'][-1:]:\n",
    "    m.pretty_print()\n",
    "\n"
   ]
  },
  {
   "cell_type": "code",
   "execution_count": 30,
   "id": "ceca7ddf",
   "metadata": {},
   "outputs": [
    {
     "name": "stdout",
     "output_type": "stream",
     "text": [
      "================================\u001b[1m Human Message \u001b[0m=================================\n",
      "\n",
      "It seems like you're just keeping the conversation going. That's perfectly fine! I'm happy to chat with you. Is there something specific you'd like to talk about, or we can just keep things casual?\n"
     ]
    }
   ],
   "source": [
    "input_message = HumanMessage(content=\"Im doing fine how about you?\")\n",
    "output = graph.invoke({\"messages\": [input_message]}, config=config) \n",
    "for m in output['messages'][-1:]:\n",
    "    m.pretty_print()"
   ]
  },
  {
   "cell_type": "code",
   "execution_count": 31,
   "id": "187ef67e",
   "metadata": {},
   "outputs": [
    {
     "name": "stdout",
     "output_type": "stream",
     "text": [
      "================================\u001b[1m Human Message \u001b[0m=================================\n",
      "\n",
      "Cricket is a great sport! It's got a huge following in many countries, especially in the Commonwealth nations. Are you a fan of a particular team or player?\n"
     ]
    }
   ],
   "source": [
    "input_message = HumanMessage(content=\"I like cricket\")\n",
    "output = graph.invoke({\"messages\": [input_message]}, config=config) \n",
    "for m in output['messages'][-1:]:\n",
    "    m.pretty_print()"
   ]
  },
  {
   "cell_type": "code",
   "execution_count": 32,
   "id": "29df22fb",
   "metadata": {},
   "outputs": [
    {
     "name": "stdout",
     "output_type": "stream",
     "text": [
      "================================\u001b[1m Human Message \u001b[0m=================================\n",
      "\n",
      "A legendary choice! Sachin Tendulkar is widely regarded as one of the greatest batsmen in cricket history. His career spanned over two decades, and he's still revered by fans around the world. What is it about Sachin that you admire the most - his technique, his records, or something else?\n"
     ]
    }
   ],
   "source": [
    "input_message = HumanMessage(content=\"I am a fan of Sachin Tendulkar\")\n",
    "output = graph.invoke({\"messages\": [input_message]}, config=config) \n",
    "for m in output['messages'][-1:]:\n",
    "    m.pretty_print()"
   ]
  },
  {
   "cell_type": "code",
   "execution_count": 33,
   "id": "66367910",
   "metadata": {},
   "outputs": [
    {
     "data": {
      "text/plain": [
       "{'messages': [HumanMessage(content='I am a fan of Sachin Tendulkar', additional_kwargs={}, response_metadata={}, id='00ecdf1e-cab0-472c-8d7f-8a85dce775b8'),\n",
       "  HumanMessage(content=\"A legendary choice! Sachin Tendulkar is widely regarded as one of the greatest batsmen in cricket history. His career spanned over two decades, and he's still revered by fans around the world. What is it about Sachin that you admire the most - his technique, his records, or something else?\", additional_kwargs={}, response_metadata={}, id='bb2aa3ec-f253-4003-8eb9-7eb9749132fc')],\n",
       " 'summary': \"## Conversation Summary \\n\\n### Initial Greeting \\nThe conversation started with a greeting where Mark introduced himself, and the other person welcomed him and inquired about his well-being.\\n\\n### Casual Conversation \\nMark responded that he was doing fine, and the conversation continued in a casual tone, with the other person expressing happiness to chat and asking if Mark wanted to discuss something specific or keep the conversation casual.\\n\\n### Discussing Cricket \\nMark expressed his liking for cricket, and the conversation shifted to this topic. The other person noted that cricket has a significant following, particularly in Commonwealth countries.\\n\\n### Focusing on Sachin Tendulkar \\nMark revealed himself to be a fan of Sachin Tendulkar, a cricket legend. The conversation then centered around Tendulkar, with the other person discussing his achievements and legacy.\\n\\n### Admiration for Tendulkar \\nThe final part of the conversation touched upon what Mark admires most about Sachin Tendulkar, whether it's his cricketing technique, the numerous records he holds, or another aspect of his cricketing career.\"}"
      ]
     },
     "execution_count": 33,
     "metadata": {},
     "output_type": "execute_result"
    }
   ],
   "source": [
    "output"
   ]
  },
  {
   "cell_type": "code",
   "execution_count": null,
   "id": "9090ac16",
   "metadata": {},
   "outputs": [],
   "source": []
  }
 ],
 "metadata": {
  "kernelspec": {
   "display_name": "env",
   "language": "python",
   "name": "python3"
  },
  "language_info": {
   "codemirror_mode": {
    "name": "ipython",
    "version": 3
   },
   "file_extension": ".py",
   "mimetype": "text/x-python",
   "name": "python",
   "nbconvert_exporter": "python",
   "pygments_lexer": "ipython3",
   "version": "3.12.3"
  }
 },
 "nbformat": 4,
 "nbformat_minor": 5
}
