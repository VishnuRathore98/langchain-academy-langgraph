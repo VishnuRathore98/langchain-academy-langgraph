{
 "cells": [
  {
   "cell_type": "markdown",
   "id": "8508bb27",
   "metadata": {},
   "source": [
    "# Chatbot with message summarization & external DB memory\n",
    "\n",
    "## Review\n",
    "\n",
    "We've covered how to customize graph state schema and reducer. \n",
    " \n",
    "We've also shown a number of tricks for trimming or filtering messages in graph state. \n",
    "\n",
    "We've used these concepts in a Chatbot with memory that produces a running summary of the conversation.\n",
    "\n",
    "## Goals\n",
    "\n",
    "But, what if we want our Chatbot to have memory that persists indefinitely?\n",
    "\n",
    "Now, we'll introduce some more advanced checkpointers that support external databases. \n",
    "\n",
    "Here, we'll show how to use [Sqlite as a checkpointer](https://langchain-ai.github.io/langgraph/concepts/low_level/#checkpointer), but other checkpointers, such as [Postgres](https://langchain-ai.github.io/langgraph/how-tos/persistence_postgres/) are available!"
   ]
  },
  {
   "cell_type": "code",
   "execution_count": null,
   "id": "812759d7",
   "metadata": {},
   "outputs": [],
   "source": [
    "%%capture --no-stderr\n",
    "%pip install --quiet -U langgraph-checkpoint-sqlite langchain_core langgraph langchain_openai"
   ]
  },
  {
   "cell_type": "code",
   "execution_count": null,
   "id": "9606833f",
   "metadata": {},
   "outputs": [],
   "source": [
    "import os, getpass\n",
    "\n",
    "def _set_env(var: str):\n",
    "    if not os.environ.get(var):\n",
    "        os.environ[var] = getpass.getpass(f\"{var}: \")\n",
    "\n",
    "_set_env(\"OPENAI_API_KEY\")"
   ]
  },
  {
   "cell_type": "markdown",
   "id": "c7a68169",
   "metadata": {},
   "source": [
    "## Sqlite\n",
    "\n",
    "A good starting point here is the [SqliteSaver checkpointer](https://langchain-ai.github.io/langgraph/concepts/low_level/#checkpointer).\n",
    "\n",
    "Sqlite is a [small, fast, highly popular](https://x.com/karpathy/status/1819490455664685297) SQL database. \n",
    " \n",
    "If we supply `\":memory:\"` it creates an in-memory Sqlite database."
   ]
  },
  {
   "cell_type": "code",
   "execution_count": null,
   "id": "52c95469",
   "metadata": {},
   "outputs": [],
   "source": [
    "import sqlite3\n",
    "# In memory\n",
    "conn = sqlite3.connect(\":memory:\", check_same_thread = False)"
   ]
  },
  {
   "cell_type": "markdown",
   "id": "5500dc59",
   "metadata": {},
   "source": [
    "But, if we supply a db path, then it will create a database for us!"
   ]
  },
  {
   "cell_type": "code",
   "execution_count": null,
   "id": "abe29d3b",
   "metadata": {},
   "outputs": [],
   "source": [
    "# pull file if it doesn't exist and connect to local db\n",
    "!mkdir -p state_db && [ ! -f state_db/example.db ] && wget -P state_db https://github.com/langchain-ai/langchain-academy/raw/main/module-2/state_db/example.db\n",
    "\n",
    "db_path = \"state_db/example.db\"\n",
    "conn = sqlite3.connect(db_path, check_same_thread=False)"
   ]
  },
  {
   "cell_type": "code",
   "execution_count": null,
   "id": "16969d46",
   "metadata": {},
   "outputs": [],
   "source": [
    "# Here is our checkpointer \n",
    "from langgraph.checkpoint.sqlite import SqliteSaver\n",
    "memory = SqliteSaver(conn)"
   ]
  },
  {
   "cell_type": "markdown",
   "id": "d7e318e7",
   "metadata": {},
   "source": [
    "Let's re-define our chatbot."
   ]
  },
  {
   "cell_type": "code",
   "execution_count": null,
   "id": "af25d65b",
   "metadata": {},
   "outputs": [],
   "source": [
    "from langchain_openai import ChatOpenAI\n",
    "from langchain_core.messages import SystemMessage, HumanMessage, RemoveMessage\n",
    "\n",
    "from langgraph.graph import END\n",
    "from langgraph.graph import MessagesState\n",
    "\n",
    "model = ChatOpenAI(model=\"gpt-4o\",temperature=0)\n",
    "\n",
    "class State(MessagesState):\n",
    "    summary: str\n",
    "\n",
    "# Define the logic to call the model\n",
    "def call_model(state: State):\n",
    "    \n",
    "    # Get summary if it exists\n",
    "    summary = state.get(\"summary\", \"\")\n",
    "\n",
    "    # If there is summary, then we add it\n",
    "    if summary:\n",
    "        \n",
    "        # Add summary to system message\n",
    "        system_message = f\"Summary of conversation earlier: {summary}\"\n",
    "\n",
    "        # Append summary to any newer messages\n",
    "        messages = [SystemMessage(content=system_message)] + state[\"messages\"]\n",
    "    \n",
    "    else:\n",
    "        messages = state[\"messages\"]\n",
    "    \n",
    "    response = model.invoke(messages)\n",
    "    return {\"messages\": response}\n",
    "\n",
    "def summarize_conversation(state: State):\n",
    "    \n",
    "    # First, we get any existing summary\n",
    "    summary = state.get(\"summary\", \"\")\n",
    "\n",
    "    # Create our summarization prompt \n",
    "    if summary:\n",
    "        \n",
    "        # A summary already exists\n",
    "        summary_message = (\n",
    "            f\"This is summary of the conversation to date: {summary}\\n\\n\"\n",
    "            \"Extend the summary by taking into account the new messages above:\"\n",
    "        )\n",
    "        \n",
    "    else:\n",
    "        summary_message = \"Create a summary of the conversation above:\"\n",
    "\n",
    "    # Add prompt to our history\n",
    "    messages = state[\"messages\"] + [HumanMessage(content=summary_message)]\n",
    "    response = model.invoke(messages)\n",
    "    \n",
    "    # Delete all but the 2 most recent messages\n",
    "    delete_messages = [RemoveMessage(id=m.id) for m in state[\"messages\"][:-2]]\n",
    "    return {\"summary\": response.content, \"messages\": delete_messages}\n",
    "\n",
    "# Determine whether to end or summarize the conversation\n",
    "def should_continue(state: State):\n",
    "    \n",
    "    \"\"\"Return the next node to execute.\"\"\"\n",
    "    \n",
    "    messages = state[\"messages\"]\n",
    "    \n",
    "    # If there are more than six messages, then we summarize the conversation\n",
    "    if len(messages) > 6:\n",
    "        return \"summarize_conversation\"\n",
    "    \n",
    "    # Otherwise we can just end\n",
    "    return END"
   ]
  },
  {
   "cell_type": "markdown",
   "id": "6b25495f",
   "metadata": {},
   "source": [
    "Now, we just re-compile with our sqlite checkpointer."
   ]
  },
  {
   "cell_type": "code",
   "execution_count": null,
   "id": "45e15b93",
   "metadata": {},
   "outputs": [
    {
     "data": {
      "image/jpeg": "[encoded data removed]",
      "text/plain": [
       "<IPython.core.display.Image object>"
      ]
     },
     "metadata": {},
     "output_type": "display_data"
    }
   ],
   "source": [
    "from IPython.display import Image, display\n",
    "from langgraph.graph import StateGraph, START\n",
    "\n",
    "# Define a new graph\n",
    "workflow = StateGraph(State)\n",
    "workflow.add_node(\"conversation\", call_model)\n",
    "workflow.add_node(summarize_conversation)\n",
    "\n",
    "# Set the entrypoint as conversation\n",
    "workflow.add_edge(START, \"conversation\")\n",
    "workflow.add_conditional_edges(\"conversation\", should_continue)\n",
    "workflow.add_edge(\"summarize_conversation\", END)\n",
    "\n",
    "# Compile\n",
    "graph = workflow.compile(checkpointer=memory)\n",
    "display(Image(graph.get_graph().draw_mermaid_png()))"
   ]
  },
  {
   "cell_type": "markdown",
   "id": "1fdf5efb",
   "metadata": {},
   "source": [
    "Now, we can invoke the graph several times. "
   ]
  },
  {
   "cell_type": "code",
   "execution_count": null,
   "id": "7e8747f2",
   "metadata": {},
   "outputs": [
    {
     "name": "stderr",
     "output_type": "stream",
     "text": [
      "/var/folders/l9/bpjxdmfx7lvd1fbdjn38y5dh0000gn/T/ipykernel_18873/2173919996.py:55: LangChainBetaWarning: The class `RemoveMessage` is in beta. It is actively being worked on, so the API may change.\n",
      "  delete_messages = [RemoveMessage(id=m.id) for m in state[\"messages\"][:-2]]\n"
     ]
    },
    {
     "name": "stdout",
     "output_type": "stream",
     "text": [
      "==================================\u001b[1m Ai Message \u001b[0m==================================\n",
      "\n",
      "Hello again, Lance! It's great to hear from you. Since you like the 49ers, is there a particular player or moment in their history that stands out to you? Or perhaps you'd like to discuss their current season? Let me know!\n",
      "==================================\u001b[1m Ai Message \u001b[0m==================================\n",
      "\n",
      "Your name is Lance! How can I assist you today? Would you like to talk more about the San Francisco 49ers or something else?\n",
      "==================================\u001b[1m Ai Message \u001b[0m==================================\n",
      "\n",
      "That's awesome, Lance! The San Francisco 49ers have a rich history and a passionate fan base. Is there a specific aspect of the team you'd like to discuss? For example, we could talk about:\n",
      "\n",
      "- Their legendary players like Joe Montana and Jerry Rice\n",
      "- Memorable games and Super Bowl victories\n",
      "- The current roster and season prospects\n",
      "- Rivalries, like the one with the Seattle Seahawks\n",
      "- Levi's Stadium and the fan experience\n",
      "\n",
      "Let me know what interests you!\n"
     ]
    }
   ],
   "source": [
    "# Create a thread\n",
    "config = {\"configurable\": {\"thread_id\": \"1\"}}\n",
    "\n",
    "# Start conversation\n",
    "input_message = HumanMessage(content=\"hi! I'm Lance\")\n",
    "output = graph.invoke({\"messages\": [input_message]}, config) \n",
    "for m in output['messages'][-1:]:\n",
    "    m.pretty_print()\n",
    "\n",
    "input_message = HumanMessage(content=\"what's my name?\")\n",
    "output = graph.invoke({\"messages\": [input_message]}, config) \n",
    "for m in output['messages'][-1:]:\n",
    "    m.pretty_print()\n",
    "\n",
    "input_message = HumanMessage(content=\"i like the 49ers!\")\n",
    "output = graph.invoke({\"messages\": [input_message]}, config) \n",
    "for m in output['messages'][-1:]:\n",
    "    m.pretty_print()"
   ]
  },
  {
   "cell_type": "markdown",
   "id": "ab519eac",
   "metadata": {},
   "source": [
    "Let's confirm that our state is saved locally."
   ]
  },
  {
   "cell_type": "code",
   "execution_count": null,
   "id": "f50f1318",
   "metadata": {},
   "outputs": [
    {
     "data": {
      "text/plain": [
       "StateSnapshot(values={'messages': [HumanMessage(content=\"hi! I'm Lance\", id='d5bb4b3f-b1e9-4f61-8c75-7a7210b30253'), AIMessage(content=\"Hello again, Lance! It's great to hear from you. Since you like the 49ers, is there a particular player or moment in their history that stands out to you? Or perhaps you'd like to discuss their current season? Let me know!\", additional_kwargs={'refusal': None}, response_metadata={'token_usage': {'completion_tokens': 50, 'prompt_tokens': 337, 'total_tokens': 387}, 'model_name': 'gpt-4o-2024-05-13', 'system_fingerprint': 'fp_157b3831f5', 'finish_reason': 'stop', 'logprobs': None}, id='run-dde04d51-d305-4a9e-8ad5-6bdf5583196e-0', usage_metadata={'input_tokens': 337, 'output_tokens': 50, 'total_tokens': 387}), HumanMessage(content=\"what's my name?\", id='d7530770-f130-4a05-a602-a96fd87859c6'), AIMessage(content='Your name is Lance! How can I assist you today? Would you like to talk more about the San Francisco 49ers or something else?', additional_kwargs={'refusal': None}, response_metadata={'token_usage': {'completion_tokens': 29, 'prompt_tokens': 243, 'total_tokens': 272}, 'model_name': 'gpt-4o-2024-05-13', 'system_fingerprint': 'fp_fde2829a40', 'finish_reason': 'stop', 'logprobs': None}, id='run-763b6387-c4c9-4658-9d01-7c018dde7a62-0', usage_metadata={'input_tokens': 243, 'output_tokens': 29, 'total_tokens': 272}), HumanMessage(content='i like the 49ers!', id='235dcec4-b656-4bee-b741-e330e1a026e2'), AIMessage(content=\"That's awesome, Lance! The San Francisco 49ers have a rich history and a passionate fan base. Is there a specific aspect of the team you'd like to discuss? For example, we could talk about:\\n\\n- Their legendary players like Joe Montana and Jerry Rice\\n- Memorable games and Super Bowl victories\\n- The current roster and season prospects\\n- Rivalries, like the one with the Seattle Seahawks\\n- Levi's Stadium and the fan experience\\n\\nLet me know what interests you!\", additional_kwargs={'refusal': None}, response_metadata={'token_usage': {'completion_tokens': 98, 'prompt_tokens': 287, 'total_tokens': 385}, 'model_name': 'gpt-4o-2024-05-13', 'system_fingerprint': 'fp_fde2829a40', 'finish_reason': 'stop', 'logprobs': None}, id='run-729860b2-16c3-46ff-ad1e-0a5475565b20-0', usage_metadata={'input_tokens': 287, 'output_tokens': 98, 'total_tokens': 385})], 'summary': 'Here\\'s an extended summary of the conversation:\\n\\nLance introduced himself multiple times during the conversation, each time stating, \"Hi! I\\'m Lance.\" He expressed his fondness for the San Francisco 49ers football team. The AI assistant acknowledged Lance\\'s name each time and showed willingness to discuss the 49ers, offering to talk about various aspects of the team such as their history, current roster, memorable games, prospects for the upcoming season, rivalries, and their home stadium, Levi\\'s Stadium. Despite the AI\\'s attempts to engage in a more detailed discussion about the 49ers, Lance reintroduced himself again without directly responding to the AI\\'s questions or prompts about the team. The conversation remained brief and somewhat repetitive, focusing mainly on Lance\\'s introductions and his interest in the 49ers.'}, next=(), config={'configurable': {'thread_id': '1', 'checkpoint_ns': '', 'checkpoint_id': '1ef6a36d-ca9c-6144-801b-6d0cf97adc73'}}, metadata={'source': 'loop', 'writes': {'conversation': {'messages': AIMessage(content=\"That's awesome, Lance! The San Francisco 49ers have a rich history and a passionate fan base. Is there a specific aspect of the team you'd like to discuss? For example, we could talk about:\\n\\n- Their legendary players like Joe Montana and Jerry Rice\\n- Memorable games and Super Bowl victories\\n- The current roster and season prospects\\n- Rivalries, like the one with the Seattle Seahawks\\n- Levi's Stadium and the fan experience\\n\\nLet me know what interests you!\", additional_kwargs={'refusal': None}, response_metadata={'token_usage': {'completion_tokens': 98, 'prompt_tokens': 287, 'total_tokens': 385}, 'model_name': 'gpt-4o-2024-05-13', 'system_fingerprint': 'fp_fde2829a40', 'finish_reason': 'stop', 'logprobs': None}, id='run-729860b2-16c3-46ff-ad1e-0a5475565b20-0', usage_metadata={'input_tokens': 287, 'output_tokens': 98, 'total_tokens': 385})}}, 'step': 27, 'parents': {}}, created_at='2024-09-03T20:55:33.466540+00:00', parent_config={'configurable': {'thread_id': '1', 'checkpoint_ns': '', 'checkpoint_id': '1ef6a36d-b8f3-6b40-801a-494776d2e9e0'}}, tasks=())"
      ]
     },
     "metadata": {},
     "output_type": "display_data"
    }
   ],
   "source": [
    "config = {\"configurable\": {\"thread_id\": \"1\"}}\n",
    "graph_state = graph.get_state(config)\n",
    "graph_state"
   ]
  },
  {
   "cell_type": "markdown",
   "id": "b1b0a993",
   "metadata": {},
   "source": [
    "### Persisting state\n",
    "\n",
    "Using database like Sqlite means state is persisted! \n",
    "\n",
    "For example, we can re-start the notebook kernel and see that we can still load from Sqlite DB on disk.\n"
   ]
  },
  {
   "cell_type": "code",
   "execution_count": null,
   "id": "e1bf44c5",
   "metadata": {},
   "outputs": [
    {
     "data": {
      "text/plain": [
       "StateSnapshot(values={'messages': [HumanMessage(content=\"hi! I'm Lance\", id='d5bb4b3f-b1e9-4f61-8c75-7a7210b30253'), AIMessage(content=\"Hello again, Lance! It's great to hear from you. Since you like the 49ers, is there a particular player or moment in their history that stands out to you? Or perhaps you'd like to discuss their current season? Let me know!\", additional_kwargs={'refusal': None}, response_metadata={'token_usage': {'completion_tokens': 50, 'prompt_tokens': 337, 'total_tokens': 387}, 'model_name': 'gpt-4o-2024-05-13', 'system_fingerprint': 'fp_157b3831f5', 'finish_reason': 'stop', 'logprobs': None}, id='run-dde04d51-d305-4a9e-8ad5-6bdf5583196e-0', usage_metadata={'input_tokens': 337, 'output_tokens': 50, 'total_tokens': 387}), HumanMessage(content=\"what's my name?\", id='d7530770-f130-4a05-a602-a96fd87859c6'), AIMessage(content='Your name is Lance! How can I assist you today? Would you like to talk more about the San Francisco 49ers or something else?', additional_kwargs={'refusal': None}, response_metadata={'token_usage': {'completion_tokens': 29, 'prompt_tokens': 243, 'total_tokens': 272}, 'model_name': 'gpt-4o-2024-05-13', 'system_fingerprint': 'fp_fde2829a40', 'finish_reason': 'stop', 'logprobs': None}, id='run-763b6387-c4c9-4658-9d01-7c018dde7a62-0', usage_metadata={'input_tokens': 243, 'output_tokens': 29, 'total_tokens': 272}), HumanMessage(content='i like the 49ers!', id='235dcec4-b656-4bee-b741-e330e1a026e2'), AIMessage(content=\"That's awesome, Lance! The San Francisco 49ers have a rich history and a passionate fan base. Is there a specific aspect of the team you'd like to discuss? For example, we could talk about:\\n\\n- Their legendary players like Joe Montana and Jerry Rice\\n- Memorable games and Super Bowl victories\\n- The current roster and season prospects\\n- Rivalries, like the one with the Seattle Seahawks\\n- Levi's Stadium and the fan experience\\n\\nLet me know what interests you!\", additional_kwargs={'refusal': None}, response_metadata={'token_usage': {'completion_tokens': 98, 'prompt_tokens': 287, 'total_tokens': 385}, 'model_name': 'gpt-4o-2024-05-13', 'system_fingerprint': 'fp_fde2829a40', 'finish_reason': 'stop', 'logprobs': None}, id='run-729860b2-16c3-46ff-ad1e-0a5475565b20-0', usage_metadata={'input_tokens': 287, 'output_tokens': 98, 'total_tokens': 385})], 'summary': 'Here\\'s an extended summary of the conversation:\\n\\nLance introduced himself multiple times during the conversation, each time stating, \"Hi! I\\'m Lance.\" He expressed his fondness for the San Francisco 49ers football team. The AI assistant acknowledged Lance\\'s name each time and showed willingness to discuss the 49ers, offering to talk about various aspects of the team such as their history, current roster, memorable games, prospects for the upcoming season, rivalries, and their home stadium, Levi\\'s Stadium. Despite the AI\\'s attempts to engage in a more detailed discussion about the 49ers, Lance reintroduced himself again without directly responding to the AI\\'s questions or prompts about the team. The conversation remained brief and somewhat repetitive, focusing mainly on Lance\\'s introductions and his interest in the 49ers.'}, next=(), config={'configurable': {'thread_id': '1', 'checkpoint_ns': '', 'checkpoint_id': '1ef6a36d-ca9c-6144-801b-6d0cf97adc73'}}, metadata={'source': 'loop', 'writes': {'conversation': {'messages': AIMessage(content=\"That's awesome, Lance! The San Francisco 49ers have a rich history and a passionate fan base. Is there a specific aspect of the team you'd like to discuss? For example, we could talk about:\\n\\n- Their legendary players like Joe Montana and Jerry Rice\\n- Memorable games and Super Bowl victories\\n- The current roster and season prospects\\n- Rivalries, like the one with the Seattle Seahawks\\n- Levi's Stadium and the fan experience\\n\\nLet me know what interests you!\", additional_kwargs={'refusal': None}, response_metadata={'token_usage': {'completion_tokens': 98, 'prompt_tokens': 287, 'total_tokens': 385}, 'model_name': 'gpt-4o-2024-05-13', 'system_fingerprint': 'fp_fde2829a40', 'finish_reason': 'stop', 'logprobs': None}, id='run-729860b2-16c3-46ff-ad1e-0a5475565b20-0', usage_metadata={'input_tokens': 287, 'output_tokens': 98, 'total_tokens': 385})}}, 'step': 27, 'parents': {}}, created_at='2024-09-03T20:55:33.466540+00:00', parent_config={'configurable': {'thread_id': '1', 'checkpoint_ns': '', 'checkpoint_id': '1ef6a36d-b8f3-6b40-801a-494776d2e9e0'}}, tasks=())"
      ]
     },
     "metadata": {},
     "output_type": "display_data"
    }
   ],
   "source": [
    "# Create a thread\n",
    "config = {\"configurable\": {\"thread_id\": \"1\"}}\n",
    "graph_state = graph.get_state(config)\n",
    "graph_state"
   ]
  },
  {
   "cell_type": "code",
   "execution_count": null,
   "id": "4f9ff4cc",
   "metadata": {},
   "outputs": [],
   "source": []
  },
  {
   "cell_type": "code",
   "execution_count": null,
   "id": "d92d8b93",
   "metadata": {},
   "outputs": [],
   "source": []
  },
  {
   "cell_type": "markdown",
   "id": "0bfb5058",
   "metadata": {},
   "source": [
    "----------------------------- Experiments -----------------------------------"
   ]
  },
  {
   "cell_type": "code",
   "execution_count": 1,
   "id": "4a1beab8",
   "metadata": {},
   "outputs": [],
   "source": [
    "from langgraph.graph import MessagesState\n",
    "from langchain_groq import ChatGroq\n",
    "from langchain_core.messages import AIMessage, HumanMessage, SystemMessage, RemoveMessage\n",
    "from langgraph.graph import StateGraph, START, END\n",
    "from langgraph.checkpoint.sqlite import SqliteSaver\n",
    "import sqlite3 as sql"
   ]
  },
  {
   "cell_type": "code",
   "execution_count": 2,
   "id": "7b932fe1",
   "metadata": {},
   "outputs": [],
   "source": [
    "import os\n",
    "from dotenv import load_dotenv"
   ]
  },
  {
   "cell_type": "code",
   "execution_count": 3,
   "id": "a148100d",
   "metadata": {},
   "outputs": [],
   "source": [
    "con = sql.connect(\"chat_history.db\", check_same_thread=False)\n",
    "memory = SqliteSaver(con)"
   ]
  },
  {
   "cell_type": "code",
   "execution_count": 4,
   "id": "23d027e5",
   "metadata": {},
   "outputs": [],
   "source": [
    "load_dotenv()\n",
    "CHAT_LLAMA = os.getenv(\"CHAT_LLAMA\")"
   ]
  },
  {
   "cell_type": "code",
   "execution_count": 5,
   "id": "dae8b602",
   "metadata": {},
   "outputs": [],
   "source": [
    "model = ChatGroq(model=CHAT_LLAMA)"
   ]
  },
  {
   "cell_type": "code",
   "execution_count": 6,
   "id": "9c0a9d64",
   "metadata": {},
   "outputs": [],
   "source": [
    "class State(MessagesState):\n",
    "    \"\"\"State maintainer for summary and messages\"\"\"\n",
    "    summary: str"
   ]
  },
  {
   "cell_type": "code",
   "execution_count": 7,
   "id": "427b2b09",
   "metadata": {},
   "outputs": [],
   "source": [
    "def conversation(state:State):\n",
    "\n",
    "    summary = state.get('summary')\n",
    "\n",
    "    if summary:\n",
    "        system_message = f\"The following is the summary of our conversation so far: {summary}.\"\n",
    "        messages = [SystemMessage(content=system_message)]+state['messages']\n",
    "    else:\n",
    "        messages = state['messages']\n",
    "\n",
    "    output = model.invoke(messages)\n",
    "\n",
    "    return ({'messages':output})"
   ]
  },
  {
   "cell_type": "code",
   "execution_count": null,
   "id": "6bf593a6",
   "metadata": {},
   "outputs": [],
   "source": []
  },
  {
   "cell_type": "code",
   "execution_count": 8,
   "id": "39105a22",
   "metadata": {},
   "outputs": [],
   "source": [
    "def summarization(state:State):\n",
    "    \n",
    "    summary = state.get('summary')\n",
    "\n",
    "    if summary:\n",
    "        new_summary = f\"Here the summary of our conversation so far:{summary}, create a new summary using the new conversation messages above.\"\n",
    "    else:\n",
    "        new_summary = f\"Create the summary of the above conversation\"\n",
    "\n",
    "    output = model.invoke(state['messages']+[HumanMessage(content=new_summary)])\n",
    "    recent_messages = [RemoveMessage(id=m.id) for m in state['messages'][:-2]]\n",
    "\n",
    "    return {'summary':output.content, 'messages':recent_messages}"
   ]
  },
  {
   "cell_type": "code",
   "execution_count": 9,
   "id": "f6d4cdee",
   "metadata": {},
   "outputs": [],
   "source": [
    "def should_continue(state:State):\n",
    "    \"\"\"Returns the next node for execution.\"\"\"\n",
    "    messages = state['messages']\n",
    "    if len(messages)>6:\n",
    "        return \"summarization\"\n",
    "    else:\n",
    "        return END"
   ]
  },
  {
   "cell_type": "code",
   "execution_count": null,
   "id": "8c48db0f",
   "metadata": {},
   "outputs": [],
   "source": []
  },
  {
   "cell_type": "code",
   "execution_count": 10,
   "id": "3a6ab820",
   "metadata": {},
   "outputs": [],
   "source": [
    "builder = StateGraph(State)\n",
    "\n",
    "builder.add_node('conversation', conversation)\n",
    "builder.add_node('summarization', summarization)\n",
    "\n",
    "builder.add_edge(START,'conversation')\n",
    "builder.add_conditional_edges('conversation',should_continue)\n",
    "builder.add_edge('summarization',END)\n",
    "\n",
    "graph = builder.compile(checkpointer=memory)"
   ]
  },
  {
   "cell_type": "code",
   "execution_count": 11,
   "id": "076008a2",
   "metadata": {},
   "outputs": [
    {
     "data": {
      "image/png": "[encoded data removed]",
      "text/plain": [
       "<langgraph.graph.state.CompiledStateGraph object at 0x7092c71886b0>"
      ]
     },
     "execution_count": 11,
     "metadata": {},
     "output_type": "execute_result"
    }
   ],
   "source": [
    "graph"
   ]
  },
  {
   "cell_type": "code",
   "execution_count": 13,
   "id": "2513402b",
   "metadata": {},
   "outputs": [],
   "source": [
    "config={'configurable':{'thread_id':'thread1'}}"
   ]
  },
  {
   "cell_type": "code",
   "execution_count": null,
   "id": "ca56c78a",
   "metadata": {},
   "outputs": [
    {
     "name": "stdout",
     "output_type": "stream",
     "text": [
      "==================================\u001b[1m Ai Message \u001b[0m==================================\n",
      "\n",
      "Nice to meet you, Mark! How are you doing today?\n"
     ]
    }
   ],
   "source": [
    "\n",
    "# Start conversation\n",
    "input_message = HumanMessage(content=\"hi! I'm Mark\")\n",
    "output = graph.invoke({\"messages\": [input_message]}, config=config) \n",
    "for m in output['messages'][-1:]:\n",
    "    m.pretty_print()\n",
    "\n"
   ]
  },
  {
   "cell_type": "code",
   "execution_count": 15,
   "id": "0ea246ac",
   "metadata": {},
   "outputs": [
    {
     "name": "stdout",
     "output_type": "stream",
     "text": [
      "==================================\u001b[1m Ai Message \u001b[0m==================================\n",
      "\n",
      "I'm just a language model, so I don't have feelings or emotions like humans do, but I'm functioning properly and ready to chat with you. What brings you here today, Mark? Is there something on your mind that you'd like to talk about or ask?\n"
     ]
    }
   ],
   "source": [
    "input_message = HumanMessage(content=\"Im doing fine how about you?\")\n",
    "output = graph.invoke({\"messages\": [input_message]}, config=config) \n",
    "for m in output['messages'][-1:]:\n",
    "    m.pretty_print()"
   ]
  },
  {
   "cell_type": "code",
   "execution_count": 16,
   "id": "2f01ac9e",
   "metadata": {},
   "outputs": [
    {
     "name": "stdout",
     "output_type": "stream",
     "text": [
      "==================================\u001b[1m Ai Message \u001b[0m==================================\n",
      "\n",
      "Cricket is a fantastic sport! It's a great game that requires skill, strategy, and teamwork. Which aspect of cricket do you enjoy the most? Is it the thrill of playing the game, watching international matches, or following a particular team or player?\n"
     ]
    }
   ],
   "source": [
    "input_message = HumanMessage(content=\"I like cricket\")\n",
    "output = graph.invoke({\"messages\": [input_message]}, config=config) \n",
    "for m in output['messages'][-1:]:\n",
    "    m.pretty_print()"
   ]
  },
  {
   "cell_type": "code",
   "execution_count": 17,
   "id": "074c3d08",
   "metadata": {},
   "outputs": [
    {
     "name": "stdout",
     "output_type": "stream",
     "text": [
      "==================================\u001b[1m Ai Message \u001b[0m==================================\n",
      "\n",
      "A legendary choice! Sachin Tendulkar is widely regarded as one of the greatest batsmen in the history of cricket. His career was filled with incredible achievements, and he earned the nickname \"The Little Master\" for his exceptional skill and technique. What is it about Sachin Tendulkar that you admire the most? Is it his incredible records, his elegant strokeplay, or his dedication to the sport?\n"
     ]
    }
   ],
   "source": [
    "input_message = HumanMessage(content=\"I am a fan of Sachin Tendulkar\")\n",
    "output = graph.invoke({\"messages\": [input_message]}, config=config) \n",
    "for m in output['messages'][-1:]:\n",
    "    m.pretty_print()"
   ]
  },
  {
   "cell_type": "code",
   "execution_count": 18,
   "id": "7b7559b1",
   "metadata": {},
   "outputs": [
    {
     "name": "stdout",
     "output_type": "stream",
     "text": [
      "==================================\u001b[1m Ai Message \u001b[0m==================================\n",
      "\n",
      "Not much, actually! We just started our conversation, and I've learned that you're a fan of Sachin Tendulkar. I'm an AI, so I don't have personal experiences or emotions, but I can certainly chat with you about your interests. If you'd like to share more about why you admire Sachin Tendulkar or discuss cricket in general, I'm here to listen!\n"
     ]
    }
   ],
   "source": [
    "input_message = HumanMessage(content=\"what do you know about me?\")\n",
    "output = graph.invoke({\"messages\": [input_message]}, config=config) \n",
    "for m in output['messages'][-1:]:\n",
    "    m.pretty_print()"
   ]
  },
  {
   "cell_type": "code",
   "execution_count": 19,
   "id": "38c7d1ee",
   "metadata": {},
   "outputs": [
    {
     "data": {
      "text/plain": [
       "{'messages': [HumanMessage(content='I am a fan of Sachin Tendulkar', additional_kwargs={}, response_metadata={}, id='9855840a-b1bb-4c20-89dc-a7c6a3a8a6fc'),\n",
       "  AIMessage(content='A legendary choice! Sachin Tendulkar is widely regarded as one of the greatest batsmen in the history of cricket. His career was filled with incredible achievements, and he earned the nickname \"The Little Master\" for his exceptional skill and technique. What is it about Sachin Tendulkar that you admire the most? Is it his incredible records, his elegant strokeplay, or his dedication to the sport?', additional_kwargs={}, response_metadata={'token_usage': {'completion_tokens': 84, 'prompt_tokens': 179, 'total_tokens': 263, 'completion_time': 0.345548838, 'prompt_time': 0.009207835, 'queue_time': 0.049888305, 'total_time': 0.354756673}, 'model_name': 'meta-llama/llama-4-maverick-17b-128e-instruct', 'system_fingerprint': 'fp_253f463456', 'finish_reason': 'stop', 'logprobs': None}, id='run-b18cb242-fee3-45d5-85f8-d05a77b7e9e3-0', usage_metadata={'input_tokens': 179, 'output_tokens': 84, 'total_tokens': 263}),\n",
       "  HumanMessage(content='what do you know about me?', additional_kwargs={}, response_metadata={}, id='3969badc-8b45-4873-8a01-9f996a5a7007'),\n",
       "  AIMessage(content=\"Not much, actually! We just started our conversation, and I've learned that you're a fan of Sachin Tendulkar. I'm an AI, so I don't have personal experiences or emotions, but I can certainly chat with you about your interests. If you'd like to share more about why you admire Sachin Tendulkar or discuss cricket in general, I'm here to listen!\", additional_kwargs={}, response_metadata={'token_usage': {'completion_tokens': 76, 'prompt_tokens': 226, 'total_tokens': 302, 'completion_time': 0.312006279, 'prompt_time': 0.0094627, 'queue_time': 0.057741804, 'total_time': 0.321468979}, 'model_name': 'meta-llama/llama-4-maverick-17b-128e-instruct', 'system_fingerprint': 'fp_253f463456', 'finish_reason': 'stop', 'logprobs': None}, id='run-96714299-4e02-4e0b-9c32-932ea6ef98a1-0', usage_metadata={'input_tokens': 226, 'output_tokens': 76, 'total_tokens': 302})],\n",
       " 'summary': \"Here is a summary of the conversation:\\n\\nThe conversation starts with a greeting where Mark introduces himself. The conversation is followed by a discussion about Mark's well-being and a brief introduction to the AI model. Mark then shares his interest in cricket and specifically mentions being a fan of Sachin Tendulkar, a legendary cricketer. The conversation concludes with a discussion about Sachin Tendulkar's achievements and qualities that make him a great batsman.\"}"
      ]
     },
     "execution_count": 19,
     "metadata": {},
     "output_type": "execute_result"
    }
   ],
   "source": [
    "output"
   ]
  },
  {
   "cell_type": "code",
   "execution_count": 20,
   "id": "a29414b4",
   "metadata": {},
   "outputs": [
    {
     "name": "stdout",
     "output_type": "stream",
     "text": [
      "==================================\u001b[1m Ai Message \u001b[0m==================================\n",
      "\n",
      "That's a straightforward question! As of my last update, the Prime Minister of India is Narendra Modi. He has been serving as the Prime Minister since 2014. If you're looking for more information or updates, I can try to provide it.\n"
     ]
    }
   ],
   "source": [
    "input_message = HumanMessage(content=\"Who is the prime minister of India?\")\n",
    "output = graph.invoke({\"messages\": [input_message]}, config=config) \n",
    "for m in output['messages'][-1:]:\n",
    "    m.pretty_print()"
   ]
  },
  {
   "cell_type": "code",
   "execution_count": 21,
   "id": "133c6d9f",
   "metadata": {},
   "outputs": [
    {
     "name": "stdout",
     "output_type": "stream",
     "text": [
      "==================================\u001b[1m Ai Message \u001b[0m==================================\n",
      "\n",
      "Narendra Modi is an Indian politician who has been serving as the Prime Minister of India since 2014. He is the leader of the Bharatiya Janata Party (BJP). Prior to becoming the Prime Minister, he served as the Chief Minister of Gujarat from 2001 to 2014. As the Prime Minister, he has been a significant figure in Indian politics, implementing various policies and reforms. If you're looking for more information about his tenure or policies, I can try to provide it.\n"
     ]
    }
   ],
   "source": [
    "input_message = HumanMessage(content=\"what do you know about him?\")\n",
    "output = graph.invoke({\"messages\": [input_message]}, config=config) \n",
    "for m in output['messages'][-1:]:\n",
    "    m.pretty_print()"
   ]
  },
  {
   "cell_type": "code",
   "execution_count": 22,
   "id": "664881e8",
   "metadata": {},
   "outputs": [
    {
     "data": {
      "text/plain": [
       "2"
      ]
     },
     "execution_count": 22,
     "metadata": {},
     "output_type": "execute_result"
    }
   ],
   "source": [
    "len(output['messages'])"
   ]
  },
  {
   "cell_type": "code",
   "execution_count": 23,
   "id": "c8ae482d",
   "metadata": {},
   "outputs": [
    {
     "name": "stdout",
     "output_type": "stream",
     "text": [
      "==================================\u001b[1m Ai Message \u001b[0m==================================\n",
      "\n",
      "The current Foreign Minister of India is S. Jaishankar. He has been serving as the Minister of External Affairs since 2019, and has been a key figure in shaping India's foreign policy. As a seasoned diplomat and politician, he has played a significant role in representing India's interests globally.\n"
     ]
    },
    {
     "data": {
      "text/plain": [
       "4"
      ]
     },
     "execution_count": 23,
     "metadata": {},
     "output_type": "execute_result"
    }
   ],
   "source": [
    "input_message = HumanMessage(content=\"Who is the foreign minister of india?\")\n",
    "output = graph.invoke({\"messages\": [input_message]}, config=config) \n",
    "for m in output['messages'][-1:]:\n",
    "    m.pretty_print()\n",
    "\n",
    "len(output['messages'])\n"
   ]
  },
  {
   "cell_type": "code",
   "execution_count": 24,
   "id": "d69ae88e",
   "metadata": {},
   "outputs": [
    {
     "name": "stdout",
     "output_type": "stream",
     "text": [
      "==================================\u001b[1m Ai Message \u001b[0m==================================\n",
      "\n",
      "The CEO of Tata Consultancy Services (TCS) is K. Krithivasan. However, it's worth noting that Tata Consultancy Services is an Indian multinational company and its global CEO is Natarajan Chandrasekaran (also known as N. Chandrasekaran), not K. Krithivasan. Natarajan Chandrasekaran is an Indian businessman who has been serving as the Chairman of Tata Sons, the holding company of the Tata Group, and has also held the position of the Managing Director of Tata Consultancy Services.\n"
     ]
    },
    {
     "data": {
      "text/plain": [
       "6"
      ]
     },
     "execution_count": 24,
     "metadata": {},
     "output_type": "execute_result"
    }
   ],
   "source": [
    "input_message = HumanMessage(content=\"Who is the ceo of tcs?\")\n",
    "output = graph.invoke({\"messages\": [input_message]}, config=config) \n",
    "for m in output['messages'][-1:]:\n",
    "    m.pretty_print()\n",
    "\n",
    "len(output['messages'])"
   ]
  },
  {
   "cell_type": "code",
   "execution_count": 25,
   "id": "a6e16d53",
   "metadata": {},
   "outputs": [
    {
     "name": "stdout",
     "output_type": "stream",
     "text": [
      "==================================\u001b[1m Ai Message \u001b[0m==================================\n",
      "\n",
      "According to the 2011 census, the population of Manipur is approximately 2.86 million (or 28.57 lakh). However, more recent estimates may be available. As of 2020, the estimated population is around 3.2 million. Manipur is a state in northeastern India, and its population has been steadily growing. For the most up-to-date information, you can check the latest available data from reliable sources such as the Census of India or other government publications.\n"
     ]
    },
    {
     "data": {
      "text/plain": [
       "2"
      ]
     },
     "execution_count": 25,
     "metadata": {},
     "output_type": "execute_result"
    }
   ],
   "source": [
    "input_message = HumanMessage(content=\"what is the population of manipur?\")\n",
    "output = graph.invoke({\"messages\": [input_message]}, config=config) \n",
    "for m in output['messages'][-1:]:\n",
    "    m.pretty_print()\n",
    "\n",
    "len(output['messages'])"
   ]
  },
  {
   "cell_type": "code",
   "execution_count": 26,
   "id": "52787f59",
   "metadata": {},
   "outputs": [
    {
     "name": "stdout",
     "output_type": "stream",
     "text": [
      "('Here is a summary of our conversation:\\n'\n",
      " '\\n'\n",
      " \"1. You initially mentioned that you're a fan of Sachin Tendulkar, and I \"\n",
      " 'responded accordingly.\\n'\n",
      " '2. You then inquired about my knowledge regarding \"him\", and I clarified '\n",
      " 'that we had just started our conversation.\\n'\n",
      " '3. You asked about the current Prime Minister of India, and I informed you '\n",
      " 'that Narendra Modi is the current Prime Minister.\\n'\n",
      " '4. You then inquired about what I know regarding \"him\", and I provided some '\n",
      " \"information about Narendra Modi's background and tenure.\\n\"\n",
      " '5. You were asked to summarize our conversation.\\n'\n",
      " '\\n'\n",
      " 'To continue the conversation, you asked about the Foreign Minister of India, '\n",
      " 'the CEO of TCS, and the population of Manipur, and I provided the respective '\n",
      " 'information.\\n'\n",
      " '\\n'\n",
      " 'To summarize:\\n'\n",
      " '\\n'\n",
      " '* The current Foreign Minister of India is S. Jaishankar.\\n'\n",
      " '* The CEO of Tata Consultancy Services (TCS) is K. Krithivasan, although the '\n",
      " 'global CEO of the Tata Group is Natarajan Chandrasekaran.\\n'\n",
      " '* The population of Manipur is approximately 2.86 million (or 28.57 lakh) '\n",
      " 'according to the 2011 census, and the estimated population as of 2020 is '\n",
      " 'around 3.2 million.\\n'\n",
      " '\\n'\n",
      " \"Let me know if you'd like to continue the conversation!\")\n"
     ]
    }
   ],
   "source": [
    "from pprint import pprint\n",
    "pprint(output['summary'])"
   ]
  },
  {
   "cell_type": "code",
   "execution_count": 27,
   "id": "925b5dc1",
   "metadata": {},
   "outputs": [
    {
     "name": "stdout",
     "output_type": "stream",
     "text": [
      "==================================\u001b[1m Ai Message \u001b[0m==================================\n",
      "\n",
      "You are a user who is having a conversation. You initially mentioned being a fan of Sachin Tendulkar, and then you inquired about various topics including the current Prime Minister of India, the Foreign Minister of India, the CEO of TCS, and the population of Manipur. I provided the respective information. \n",
      "\n",
      "To summarize, the current Foreign Minister of India is S. Jaishankar, the CEO of Tata Consultancy Services (TCS) is K. Krithivasan (although the global CEO of the Tata Group is Natarajan Chandrasekaran), and the population of Manipur is approximately 2.86 million (or 28.57 lakh) according to the 2011 census, and around 3.2 million as of 2020.\n"
     ]
    }
   ],
   "source": [
    "input_message = HumanMessage(content=\"Who am I?\")\n",
    "output = graph.invoke({\"messages\": [input_message]}, config=config) \n",
    "for m in output['messages'][-1:]:\n",
    "    m.pretty_print()"
   ]
  },
  {
   "cell_type": "code",
   "execution_count": 15,
   "id": "5bef44ec",
   "metadata": {},
   "outputs": [
    {
     "name": "stdout",
     "output_type": "stream",
     "text": [
      "==================================\u001b[1m Ai Message \u001b[0m==================================\n",
      "\n",
      "You haven't told me your name. I'm happy to chat with you, but I don't know your name as we are interacting through text. If you'd like to share your name, I can certainly respond accordingly, but since this is the beginning of our conversation, I'll simply say that I'm here to help with any questions you may have.\n"
     ]
    }
   ],
   "source": [
    "input_message = HumanMessage(content=\"what is my name?\")\n",
    "output = graph.invoke({\"messages\": [input_message]}, config=config) \n",
    "for m in output['messages'][-1:]:\n",
    "    m.pretty_print()"
   ]
  },
  {
   "cell_type": "code",
   "execution_count": 29,
   "id": "d5553148",
   "metadata": {},
   "outputs": [
    {
     "name": "stdout",
     "output_type": "stream",
     "text": [
      "==================================\u001b[1m Ai Message \u001b[0m==================================\n",
      "\n",
      "Here's a summary of our conversation so far:\n",
      "\n",
      "1. You initially mentioned that you're a fan of Sachin Tendulkar.\n",
      "2. You then inquired about my knowledge regarding \"him\", and I clarified that we had just started our conversation.\n",
      "3. You asked about the current Prime Minister of India, and I informed you that Narendra Modi is the current Prime Minister.\n",
      "4. You then inquired about what I know regarding \"him\", and I provided some information about Narendra Modi's background and tenure.\n",
      "5. You were asked to summarize our conversation.\n",
      "\n",
      "To continue the conversation, you asked about the Foreign Minister of India, the CEO of TCS, and the population of Manipur, and I provided the respective information.\n",
      "\n",
      "To summarize:\n",
      "\n",
      "* The current Foreign Minister of India is S. Jaishankar.\n",
      "* The CEO of Tata Consultancy Services (TCS) is K. Krithivasan, although the global CEO of the Tata Group is Natarajan Chandrasekaran.\n",
      "* The population of Manipur is approximately 2.86 million (or 28.57 lakh) according to the 2011 census, and the estimated population as of 2020 is around 3.2 million.\n",
      "\n",
      "Let me know if you'd like to continue the conversation!\n"
     ]
    }
   ],
   "source": [
    "input_message = HumanMessage(content=\"provide me a summary of our conversation so far?\")\n",
    "output = graph.invoke({\"messages\": [input_message]}, config=config) \n",
    "for m in output['messages'][-1:]:\n",
    "    m.pretty_print()"
   ]
  },
  {
   "cell_type": "code",
   "execution_count": 30,
   "id": "aa0b13ea",
   "metadata": {},
   "outputs": [
    {
     "name": "stdout",
     "output_type": "stream",
     "text": [
      "==================================\u001b[1m Ai Message \u001b[0m==================================\n",
      "\n",
      "NVIDIA CUDA (Compute Unified Device Architecture) is a parallel computing platform and programming model developed by NVIDIA Corporation. It allows developers to harness the power of NVIDIA graphics processing units (GPUs) for general-purpose computing, beyond just graphics rendering.\n",
      "\n",
      "CUDA is a software layer that enables developers to write programs that can execute on NVIDIA GPUs, leveraging their massive parallel processing capabilities. This allows for significant performance improvements in various compute-intensive tasks, such as:\n",
      "\n",
      "1. Scientific simulations\n",
      "2. Data analytics and machine learning\n",
      "3. Cryptography\n",
      "4. Weather forecasting and climate modeling\n",
      "5. Medical imaging and diagnostics\n",
      "\n",
      "CUDA provides a set of APIs, libraries, and tools that allow developers to:\n",
      "\n",
      "1. Write CUDA kernels: These are the core functions that execute on the GPU.\n",
      "2. Use CUDA libraries: Pre-built libraries that provide high-level functionality, making it easier to integrate GPU acceleration into applications.\n",
      "3. Utilize CUDA runtime APIs: These APIs manage the execution of CUDA kernels, handle data transfer between the host and device, and provide other essential services.\n",
      "\n",
      "Some of the key benefits of using NVIDIA CUDA include:\n",
      "\n",
      "* **Massive parallel processing**: GPUs have thousands of cores, allowing for concurrent execution of many tasks, leading to significant performance improvements.\n",
      "* **Accelerated computing**: CUDA enables the acceleration of various compute-intensive tasks, freeing up CPU resources for other tasks.\n",
      "* **Heterogeneous computing**: CUDA allows for the integration of multiple processing units (CPUs and GPUs) to achieve better performance and efficiency.\n",
      "\n",
      "However, it's worth noting that CUDA is not a panacea, and its adoption depends on the specific use case. Some potential limitations and considerations include:\n",
      "\n",
      "* **Hardware requirements**: CUDA requires an NVIDIA GPU with sufficient compute capability (SM 2.0 or higher).\n",
      "* **Driver and runtime versions**: The CUDA runtime and driver versions must be compatible with the specific GPU hardware.\n",
      "\n",
      "To get started with CUDA, developers can refer to the official NVIDIA documentation, which includes:\n",
      "\n",
      "1. CUDA Programming Guide\n",
      "2. CUDA Best Practices Guide\n",
      "3. CUDA API Reference\n",
      "\n",
      "Additionally, numerous online resources, tutorials, and examples are available to help developers learn and master CUDA programming.\n",
      "\n",
      "In summary, NVIDIA CUDA is a powerful parallel computing platform that enables developers to harness the massive processing capabilities of NVIDIA GPUs, accelerating a wide range of compute-intensive applications.\n"
     ]
    }
   ],
   "source": [
    "input_message = HumanMessage(content=\"What is nvidia cuda?\")\n",
    "output = graph.invoke({\"messages\": [input_message]}, config=config) \n",
    "for m in output['messages'][-1:]:\n",
    "    m.pretty_print()"
   ]
  },
  {
   "cell_type": "code",
   "execution_count": 31,
   "id": "b574e92d",
   "metadata": {},
   "outputs": [
    {
     "name": "stdout",
     "output_type": "stream",
     "text": [
      "==================================\u001b[1m Ai Message \u001b[0m==================================\n",
      "\n",
      "Aristotle (384-322 BCE) was a Greek philosopher and polymath who made significant contributions to various fields, including philosophy, science, and ethics. He was one of the most influential figures of the ancient world, and his works had a profound impact on Western philosophy and science.\n",
      "\n",
      "Aristotle was born in Stagira, a small town in ancient Macedonia, and studied under Plato at the Academy in Athens. He later tutored Alexander the Great, the famous Macedonian king.\n",
      "\n",
      "Some of Aristotle's most notable achievements and contributions include:\n",
      "\n",
      "1. **Philosophy**: Aristotle made significant contributions to various branches of philosophy, including metaphysics, ethics, politics, and biology. His works include \"Metaphysics,\" \"Nicomachean Ethics,\" and \"Politics.\"\n",
      "2. **Biology and Natural History**: Aristotle was a pioneer in the field of biology, and his works on natural history, such as \"Historia Animalium\" (History of Animals), were highly influential.\n",
      "3. **Logic and Rhetoric**: Aristotle developed the foundations of formal logic, and his works on rhetoric, such as \"Rhetoric\" and \"Topics,\" are still studied today.\n",
      "\n",
      "Some of the key concepts and ideas associated with Aristotle's philosophy include:\n",
      "\n",
      "1. **The Four Causes**: Aristotle's concept of the four causes (material, formal, efficient, and final) is a fundamental aspect of his metaphysics.\n",
      "2. **Hylomorphism**: Aristotle's hylomorphic theory posits that reality consists of matter (hyle) and form (morphe), which are the fundamental principles of the natural world.\n",
      "3. **Teleology**: Aristotle's concept of teleology, or the study of final causes, is a central aspect of his philosophy, arguing that things have a natural tendency or purpose.\n",
      "\n",
      "Aristotle's works were widely studied and influential in the ancient world, and his ideas continued to shape Western philosophy and science for centuries. His contributions to the development of logic, biology, and ethics remain significant to this day.\n",
      "\n",
      "In summary, Aristotle was a towering figure in ancient Greek philosophy, and his works continue to be studied, debated, and admired for their depth, insight, and historical significance.\n"
     ]
    }
   ],
   "source": [
    "input_message = HumanMessage(content=\"Who was aristotal?\")\n",
    "output = graph.invoke({\"messages\": [input_message]}, config=config) \n",
    "for m in output['messages'][-1:]:\n",
    "    m.pretty_print()"
   ]
  },
  {
   "cell_type": "code",
   "execution_count": 32,
   "id": "ff0fe36b",
   "metadata": {},
   "outputs": [
    {
     "data": {
      "text/plain": [
       "6"
      ]
     },
     "execution_count": 32,
     "metadata": {},
     "output_type": "execute_result"
    }
   ],
   "source": [
    "len(output['messages'])"
   ]
  },
  {
   "cell_type": "code",
   "execution_count": 33,
   "id": "d4a2c5f9",
   "metadata": {},
   "outputs": [
    {
     "name": "stdout",
     "output_type": "stream",
     "text": [
      "==================================\u001b[1m Ai Message \u001b[0m==================================\n",
      "\n",
      "There are 8 planets in our solar system. Here is the list of planets in our solar system, in order from the Sun:\n",
      "\n",
      "1. Mercury\n",
      "2. Venus\n",
      "3. Earth\n",
      "4. Mars\n",
      "5. Jupiter\n",
      "6. Saturn\n",
      "7. Uranus\n",
      "8. Neptune\n",
      "\n",
      "These 8 planets are the primary planets in our solar system. In addition to these, there are also other objects in the solar system, such as:\n",
      "\n",
      "* Dwarf planets (e.g., Pluto, Eris, Ceres)\n",
      "* Asteroids\n",
      "* Comets\n",
      "* Kuiper belt objects\n",
      "* Oort cloud objects\n",
      "\n",
      "The 8 planets listed above are the primary planets in our solar system, and they are the most significant objects orbiting the Sun. The other objects mentioned are also part of our solar system, but they are not considered planets.\n",
      "\n",
      "It's worth noting that Pluto was previously considered the 9th planet, but in 2006, the International Astronomical Union (IAU) redefined the term \"planet\" and reclassified Pluto as a dwarf planet.\n"
     ]
    }
   ],
   "source": [
    "input_message = HumanMessage(content=\"how many planets are in solar system?\")\n",
    "output = graph.invoke({\"messages\": [input_message]}, config=config) \n",
    "for m in output['messages'][-1:]:\n",
    "    m.pretty_print()\n",
    "    "
   ]
  },
  {
   "cell_type": "code",
   "execution_count": 34,
   "id": "1cc5c0d5",
   "metadata": {},
   "outputs": [
    {
     "data": {
      "text/plain": [
       "\"Here is a summary of our conversation so far:\\n\\n1. You asked about NVIDIA CUDA, and I provided information about it.\\n2. You inquired about Aristotle, and I gave a detailed overview of his life and contributions.\\n3. You asked about the number of planets in our solar system, and I provided the list of planets and additional information about other objects in the solar system.\\n\\nLet's continue the conversation if you'd like to discuss any of these topics further or explore new ones!\""
      ]
     },
     "execution_count": 34,
     "metadata": {},
     "output_type": "execute_result"
    }
   ],
   "source": [
    "output['summary']"
   ]
  },
  {
   "cell_type": "code",
   "execution_count": 14,
   "id": "2b61c177",
   "metadata": {},
   "outputs": [
    {
     "data": {
      "text/plain": [
       "\"Here is a summary of our conversation so far:\\n\\n1. You asked about NVIDIA CUDA, and I provided information about it.\\n2. You inquired about Aristotle, and I gave a detailed overview of his life and contributions.\\n3. You asked about the number of planets in our solar system, and I provided the list of planets and additional information about other objects in the solar system.\\n\\nLet's continue the conversation if you'd like to discuss any of these topics further or explore new ones!\""
      ]
     },
     "execution_count": 14,
     "metadata": {},
     "output_type": "execute_result"
    }
   ],
   "source": [
    "graph.get_state(config).values.get(\"summary\")"
   ]
  },
  {
   "cell_type": "code",
   "execution_count": null,
   "id": "3ba1cdb3",
   "metadata": {},
   "outputs": [],
   "source": []
  },
  {
   "cell_type": "code",
   "execution_count": null,
   "id": "584098b7",
   "metadata": {},
   "outputs": [],
   "source": []
  },
  {
   "cell_type": "code",
   "execution_count": null,
   "id": "12baa807",
   "metadata": {},
   "outputs": [],
   "source": []
  },
  {
   "cell_type": "code",
   "execution_count": null,
   "id": "5a4ff2e0",
   "metadata": {},
   "outputs": [],
   "source": []
  }
 ],
 "metadata": {
  "kernelspec": {
   "display_name": "env",
   "language": "python",
   "name": "python3"
  },
  "language_info": {
   "codemirror_mode": {
    "name": "ipython",
    "version": 3
   },
   "file_extension": ".py",
   "mimetype": "text/x-python",
   "name": "python",
   "nbconvert_exporter": "python",
   "pygments_lexer": "ipython3",
   "version": "3.12.3"
  }
 },
 "nbformat": 4,
 "nbformat_minor": 5
}
